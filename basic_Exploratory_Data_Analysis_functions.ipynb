{
  "nbformat": 4,
  "nbformat_minor": 0,
  "metadata": {
    "colab": {
      "name": "basic Exploratory Data Analysis functions",
      "provenance": [],
      "collapsed_sections": [
        "9sg6NvqBaqZ6",
        "QtYIt6J7pYzl",
        "BzMcskjfMoBn",
        "lp1b_fSuWfYG",
        "zMZNiByt0ks0",
        "zsXB2OHo6Mb1",
        "YFGMiPPgXwNI",
        "3vm35ibgYnrL",
        "OEsEGRGA_59C",
        "xRB7LsInr8oU",
        "KVLqoL5FKxaj",
        "tT9vN96_6JyF",
        "ctRII5-6Lvtz",
        "rZUDsOmaG8SF",
        "RZ1pQ7xQGahL",
        "acC4Goa5LpuC",
        "F54S6GmALw_D",
        "eRKrs3tTF59B",
        "pjotVyl9NtAp",
        "tCo5BLuQUGnl",
        "sqpv9x9bafkE",
        "4X_2cIS5E1o4"
      ]
    },
    "kernelspec": {
      "name": "python3",
      "display_name": "Python 3"
    }
  },
  "cells": [
    {
      "cell_type": "markdown",
      "metadata": {
        "id": "mzGYEpO7aeTQ"
      },
      "source": [
        "##**Cheatsheet for basic Exploratory Data Analysis functions**\n",
        "#####Last edited: 2020-06-10  | By: [Limor Goldhaber](https://www.linkedin.com/in/limorgoldhaber/) \n",
        "---\n",
        "\n",
        "\n",
        "\n"
      ]
    },
    {
      "cell_type": "markdown",
      "metadata": {
        "id": "BoJNTkyW5wtE"
      },
      "source": [
        "## **Data analysis using python**"
      ]
    },
    {
      "cell_type": "markdown",
      "metadata": {
        "id": "9sg6NvqBaqZ6"
      },
      "source": [
        "###**Importing python libraries**\n",
        "\n",
        "\n"
      ]
    },
    {
      "cell_type": "code",
      "metadata": {
        "id": "rM60rhb6n7x0"
      },
      "source": [
        "# Import any python libraries you'll need below. \n",
        "# Here are some common and basic libraries used:\n",
        "import numpy             as np\n",
        "import pandas            as pd\n",
        "import matplotlib.pyplot as plt\n",
        "import seaborn           as sns"
      ],
      "execution_count": 10,
      "outputs": []
    },
    {
      "cell_type": "markdown",
      "metadata": {
        "id": "QtYIt6J7pYzl"
      },
      "source": [
        "###**Importing data files**\n",
        "Using Medium articles dataset from [Kaggle ](https://www.kaggle.com/hsankesara/medium-articles)"
      ]
    },
    {
      "cell_type": "code",
      "metadata": {
        "id": "VBncYSk8T-5j",
        "outputId": "df3ddffe-6237-42d6-c580-5715ce691299",
        "colab": {
          "resources": {
            "http://localhost:8080/nbextensions/google.colab/files.js": {
              "data": "Ly8gQ29weXJpZ2h0IDIwMTcgR29vZ2xlIExMQwovLwovLyBMaWNlbnNlZCB1bmRlciB0aGUgQXBhY2hlIExpY2Vuc2UsIFZlcnNpb24gMi4wICh0aGUgIkxpY2Vuc2UiKTsKLy8geW91IG1heSBub3QgdXNlIHRoaXMgZmlsZSBleGNlcHQgaW4gY29tcGxpYW5jZSB3aXRoIHRoZSBMaWNlbnNlLgovLyBZb3UgbWF5IG9idGFpbiBhIGNvcHkgb2YgdGhlIExpY2Vuc2UgYXQKLy8KLy8gICAgICBodHRwOi8vd3d3LmFwYWNoZS5vcmcvbGljZW5zZXMvTElDRU5TRS0yLjAKLy8KLy8gVW5sZXNzIHJlcXVpcmVkIGJ5IGFwcGxpY2FibGUgbGF3IG9yIGFncmVlZCB0byBpbiB3cml0aW5nLCBzb2Z0d2FyZQovLyBkaXN0cmlidXRlZCB1bmRlciB0aGUgTGljZW5zZSBpcyBkaXN0cmlidXRlZCBvbiBhbiAiQVMgSVMiIEJBU0lTLAovLyBXSVRIT1VUIFdBUlJBTlRJRVMgT1IgQ09ORElUSU9OUyBPRiBBTlkgS0lORCwgZWl0aGVyIGV4cHJlc3Mgb3IgaW1wbGllZC4KLy8gU2VlIHRoZSBMaWNlbnNlIGZvciB0aGUgc3BlY2lmaWMgbGFuZ3VhZ2UgZ292ZXJuaW5nIHBlcm1pc3Npb25zIGFuZAovLyBsaW1pdGF0aW9ucyB1bmRlciB0aGUgTGljZW5zZS4KCi8qKgogKiBAZmlsZW92ZXJ2aWV3IEhlbHBlcnMgZm9yIGdvb2dsZS5jb2xhYiBQeXRob24gbW9kdWxlLgogKi8KKGZ1bmN0aW9uKHNjb3BlKSB7CmZ1bmN0aW9uIHNwYW4odGV4dCwgc3R5bGVBdHRyaWJ1dGVzID0ge30pIHsKICBjb25zdCBlbGVtZW50ID0gZG9jdW1lbnQuY3JlYXRlRWxlbWVudCgnc3BhbicpOwogIGVsZW1lbnQudGV4dENvbnRlbnQgPSB0ZXh0OwogIGZvciAoY29uc3Qga2V5IG9mIE9iamVjdC5rZXlzKHN0eWxlQXR0cmlidXRlcykpIHsKICAgIGVsZW1lbnQuc3R5bGVba2V5XSA9IHN0eWxlQXR0cmlidXRlc1trZXldOwogIH0KICByZXR1cm4gZWxlbWVudDsKfQoKLy8gTWF4IG51bWJlciBvZiBieXRlcyB3aGljaCB3aWxsIGJlIHVwbG9hZGVkIGF0IGEgdGltZS4KY29uc3QgTUFYX1BBWUxPQURfU0laRSA9IDEwMCAqIDEwMjQ7CgpmdW5jdGlvbiBfdXBsb2FkRmlsZXMoaW5wdXRJZCwgb3V0cHV0SWQpIHsKICBjb25zdCBzdGVwcyA9IHVwbG9hZEZpbGVzU3RlcChpbnB1dElkLCBvdXRwdXRJZCk7CiAgY29uc3Qgb3V0cHV0RWxlbWVudCA9IGRvY3VtZW50LmdldEVsZW1lbnRCeUlkKG91dHB1dElkKTsKICAvLyBDYWNoZSBzdGVwcyBvbiB0aGUgb3V0cHV0RWxlbWVudCB0byBtYWtlIGl0IGF2YWlsYWJsZSBmb3IgdGhlIG5leHQgY2FsbAogIC8vIHRvIHVwbG9hZEZpbGVzQ29udGludWUgZnJvbSBQeXRob24uCiAgb3V0cHV0RWxlbWVudC5zdGVwcyA9IHN0ZXBzOwoKICByZXR1cm4gX3VwbG9hZEZpbGVzQ29udGludWUob3V0cHV0SWQpOwp9CgovLyBUaGlzIGlzIHJvdWdobHkgYW4gYXN5bmMgZ2VuZXJhdG9yIChub3Qgc3VwcG9ydGVkIGluIHRoZSBicm93c2VyIHlldCksCi8vIHdoZXJlIHRoZXJlIGFyZSBtdWx0aXBsZSBhc3luY2hyb25vdXMgc3RlcHMgYW5kIHRoZSBQeXRob24gc2lkZSBpcyBnb2luZwovLyB0byBwb2xsIGZvciBjb21wbGV0aW9uIG9mIGVhY2ggc3RlcC4KLy8gVGhpcyB1c2VzIGEgUHJvbWlzZSB0byBibG9jayB0aGUgcHl0aG9uIHNpZGUgb24gY29tcGxldGlvbiBvZiBlYWNoIHN0ZXAsCi8vIHRoZW4gcGFzc2VzIHRoZSByZXN1bHQgb2YgdGhlIHByZXZpb3VzIHN0ZXAgYXMgdGhlIGlucHV0IHRvIHRoZSBuZXh0IHN0ZXAuCmZ1bmN0aW9uIF91cGxvYWRGaWxlc0NvbnRpbnVlKG91dHB1dElkKSB7CiAgY29uc3Qgb3V0cHV0RWxlbWVudCA9IGRvY3VtZW50LmdldEVsZW1lbnRCeUlkKG91dHB1dElkKTsKICBjb25zdCBzdGVwcyA9IG91dHB1dEVsZW1lbnQuc3RlcHM7CgogIGNvbnN0IG5leHQgPSBzdGVwcy5uZXh0KG91dHB1dEVsZW1lbnQubGFzdFByb21pc2VWYWx1ZSk7CiAgcmV0dXJuIFByb21pc2UucmVzb2x2ZShuZXh0LnZhbHVlLnByb21pc2UpLnRoZW4oKHZhbHVlKSA9PiB7CiAgICAvLyBDYWNoZSB0aGUgbGFzdCBwcm9taXNlIHZhbHVlIHRvIG1ha2UgaXQgYXZhaWxhYmxlIHRvIHRoZSBuZXh0CiAgICAvLyBzdGVwIG9mIHRoZSBnZW5lcmF0b3IuCiAgICBvdXRwdXRFbGVtZW50Lmxhc3RQcm9taXNlVmFsdWUgPSB2YWx1ZTsKICAgIHJldHVybiBuZXh0LnZhbHVlLnJlc3BvbnNlOwogIH0pOwp9CgovKioKICogR2VuZXJhdG9yIGZ1bmN0aW9uIHdoaWNoIGlzIGNhbGxlZCBiZXR3ZWVuIGVhY2ggYXN5bmMgc3RlcCBvZiB0aGUgdXBsb2FkCiAqIHByb2Nlc3MuCiAqIEBwYXJhbSB7c3RyaW5nfSBpbnB1dElkIEVsZW1lbnQgSUQgb2YgdGhlIGlucHV0IGZpbGUgcGlja2VyIGVsZW1lbnQuCiAqIEBwYXJhbSB7c3RyaW5nfSBvdXRwdXRJZCBFbGVtZW50IElEIG9mIHRoZSBvdXRwdXQgZGlzcGxheS4KICogQHJldHVybiB7IUl0ZXJhYmxlPCFPYmplY3Q+fSBJdGVyYWJsZSBvZiBuZXh0IHN0ZXBzLgogKi8KZnVuY3Rpb24qIHVwbG9hZEZpbGVzU3RlcChpbnB1dElkLCBvdXRwdXRJZCkgewogIGNvbnN0IGlucHV0RWxlbWVudCA9IGRvY3VtZW50LmdldEVsZW1lbnRCeUlkKGlucHV0SWQpOwogIGlucHV0RWxlbWVudC5kaXNhYmxlZCA9IGZhbHNlOwoKICBjb25zdCBvdXRwdXRFbGVtZW50ID0gZG9jdW1lbnQuZ2V0RWxlbWVudEJ5SWQob3V0cHV0SWQpOwogIG91dHB1dEVsZW1lbnQuaW5uZXJIVE1MID0gJyc7CgogIGNvbnN0IHBpY2tlZFByb21pc2UgPSBuZXcgUHJvbWlzZSgocmVzb2x2ZSkgPT4gewogICAgaW5wdXRFbGVtZW50LmFkZEV2ZW50TGlzdGVuZXIoJ2NoYW5nZScsIChlKSA9PiB7CiAgICAgIHJlc29sdmUoZS50YXJnZXQuZmlsZXMpOwogICAgfSk7CiAgfSk7CgogIGNvbnN0IGNhbmNlbCA9IGRvY3VtZW50LmNyZWF0ZUVsZW1lbnQoJ2J1dHRvbicpOwogIGlucHV0RWxlbWVudC5wYXJlbnRFbGVtZW50LmFwcGVuZENoaWxkKGNhbmNlbCk7CiAgY2FuY2VsLnRleHRDb250ZW50ID0gJ0NhbmNlbCB1cGxvYWQnOwogIGNvbnN0IGNhbmNlbFByb21pc2UgPSBuZXcgUHJvbWlzZSgocmVzb2x2ZSkgPT4gewogICAgY2FuY2VsLm9uY2xpY2sgPSAoKSA9PiB7CiAgICAgIHJlc29sdmUobnVsbCk7CiAgICB9OwogIH0pOwoKICAvLyBXYWl0IGZvciB0aGUgdXNlciB0byBwaWNrIHRoZSBmaWxlcy4KICBjb25zdCBmaWxlcyA9IHlpZWxkIHsKICAgIHByb21pc2U6IFByb21pc2UucmFjZShbcGlja2VkUHJvbWlzZSwgY2FuY2VsUHJvbWlzZV0pLAogICAgcmVzcG9uc2U6IHsKICAgICAgYWN0aW9uOiAnc3RhcnRpbmcnLAogICAgfQogIH07CgogIGNhbmNlbC5yZW1vdmUoKTsKCiAgLy8gRGlzYWJsZSB0aGUgaW5wdXQgZWxlbWVudCBzaW5jZSBmdXJ0aGVyIHBpY2tzIGFyZSBub3QgYWxsb3dlZC4KICBpbnB1dEVsZW1lbnQuZGlzYWJsZWQgPSB0cnVlOwoKICBpZiAoIWZpbGVzKSB7CiAgICByZXR1cm4gewogICAgICByZXNwb25zZTogewogICAgICAgIGFjdGlvbjogJ2NvbXBsZXRlJywKICAgICAgfQogICAgfTsKICB9CgogIGZvciAoY29uc3QgZmlsZSBvZiBmaWxlcykgewogICAgY29uc3QgbGkgPSBkb2N1bWVudC5jcmVhdGVFbGVtZW50KCdsaScpOwogICAgbGkuYXBwZW5kKHNwYW4oZmlsZS5uYW1lLCB7Zm9udFdlaWdodDogJ2JvbGQnfSkpOwogICAgbGkuYXBwZW5kKHNwYW4oCiAgICAgICAgYCgke2ZpbGUudHlwZSB8fCAnbi9hJ30pIC0gJHtmaWxlLnNpemV9IGJ5dGVzLCBgICsKICAgICAgICBgbGFzdCBtb2RpZmllZDogJHsKICAgICAgICAgICAgZmlsZS5sYXN0TW9kaWZpZWREYXRlID8gZmlsZS5sYXN0TW9kaWZpZWREYXRlLnRvTG9jYWxlRGF0ZVN0cmluZygpIDoKICAgICAgICAgICAgICAgICAgICAgICAgICAgICAgICAgICAgJ24vYSd9IC0gYCkpOwogICAgY29uc3QgcGVyY2VudCA9IHNwYW4oJzAlIGRvbmUnKTsKICAgIGxpLmFwcGVuZENoaWxkKHBlcmNlbnQpOwoKICAgIG91dHB1dEVsZW1lbnQuYXBwZW5kQ2hpbGQobGkpOwoKICAgIGNvbnN0IGZpbGVEYXRhUHJvbWlzZSA9IG5ldyBQcm9taXNlKChyZXNvbHZlKSA9PiB7CiAgICAgIGNvbnN0IHJlYWRlciA9IG5ldyBGaWxlUmVhZGVyKCk7CiAgICAgIHJlYWRlci5vbmxvYWQgPSAoZSkgPT4gewogICAgICAgIHJlc29sdmUoZS50YXJnZXQucmVzdWx0KTsKICAgICAgfTsKICAgICAgcmVhZGVyLnJlYWRBc0FycmF5QnVmZmVyKGZpbGUpOwogICAgfSk7CiAgICAvLyBXYWl0IGZvciB0aGUgZGF0YSB0byBiZSByZWFkeS4KICAgIGxldCBmaWxlRGF0YSA9IHlpZWxkIHsKICAgICAgcHJvbWlzZTogZmlsZURhdGFQcm9taXNlLAogICAgICByZXNwb25zZTogewogICAgICAgIGFjdGlvbjogJ2NvbnRpbnVlJywKICAgICAgfQogICAgfTsKCiAgICAvLyBVc2UgYSBjaHVua2VkIHNlbmRpbmcgdG8gYXZvaWQgbWVzc2FnZSBzaXplIGxpbWl0cy4gU2VlIGIvNjIxMTU2NjAuCiAgICBsZXQgcG9zaXRpb24gPSAwOwogICAgd2hpbGUgKHBvc2l0aW9uIDwgZmlsZURhdGEuYnl0ZUxlbmd0aCkgewogICAgICBjb25zdCBsZW5ndGggPSBNYXRoLm1pbihmaWxlRGF0YS5ieXRlTGVuZ3RoIC0gcG9zaXRpb24sIE1BWF9QQVlMT0FEX1NJWkUpOwogICAgICBjb25zdCBjaHVuayA9IG5ldyBVaW50OEFycmF5KGZpbGVEYXRhLCBwb3NpdGlvbiwgbGVuZ3RoKTsKICAgICAgcG9zaXRpb24gKz0gbGVuZ3RoOwoKICAgICAgY29uc3QgYmFzZTY0ID0gYnRvYShTdHJpbmcuZnJvbUNoYXJDb2RlLmFwcGx5KG51bGwsIGNodW5rKSk7CiAgICAgIHlpZWxkIHsKICAgICAgICByZXNwb25zZTogewogICAgICAgICAgYWN0aW9uOiAnYXBwZW5kJywKICAgICAgICAgIGZpbGU6IGZpbGUubmFtZSwKICAgICAgICAgIGRhdGE6IGJhc2U2NCwKICAgICAgICB9LAogICAgICB9OwogICAgICBwZXJjZW50LnRleHRDb250ZW50ID0KICAgICAgICAgIGAke01hdGgucm91bmQoKHBvc2l0aW9uIC8gZmlsZURhdGEuYnl0ZUxlbmd0aCkgKiAxMDApfSUgZG9uZWA7CiAgICB9CiAgfQoKICAvLyBBbGwgZG9uZS4KICB5aWVsZCB7CiAgICByZXNwb25zZTogewogICAgICBhY3Rpb246ICdjb21wbGV0ZScsCiAgICB9CiAgfTsKfQoKc2NvcGUuZ29vZ2xlID0gc2NvcGUuZ29vZ2xlIHx8IHt9OwpzY29wZS5nb29nbGUuY29sYWIgPSBzY29wZS5nb29nbGUuY29sYWIgfHwge307CnNjb3BlLmdvb2dsZS5jb2xhYi5fZmlsZXMgPSB7CiAgX3VwbG9hZEZpbGVzLAogIF91cGxvYWRGaWxlc0NvbnRpbnVlLAp9Owp9KShzZWxmKTsK",
              "ok": true,
              "headers": [
                [
                  "content-type",
                  "application/javascript"
                ]
              ],
              "status": 200,
              "status_text": ""
            }
          },
          "base_uri": "https://localhost:8080/",
          "height": 72
        }
      },
      "source": [
        "#importing dataset from Google Drive\n",
        "\n",
        "from google.colab import files\n",
        "uploaded = files.upload()"
      ],
      "execution_count": 12,
      "outputs": [
        {
          "output_type": "display_data",
          "data": {
            "text/html": [
              "\n",
              "     <input type=\"file\" id=\"files-da3ca854-845f-4fee-921a-43324f0bb797\" name=\"files[]\" multiple disabled\n",
              "        style=\"border:none\" />\n",
              "     <output id=\"result-da3ca854-845f-4fee-921a-43324f0bb797\">\n",
              "      Upload widget is only available when the cell has been executed in the\n",
              "      current browser session. Please rerun this cell to enable.\n",
              "      </output>\n",
              "      <script src=\"/nbextensions/google.colab/files.js\"></script> "
            ],
            "text/plain": [
              "<IPython.core.display.HTML object>"
            ]
          },
          "metadata": {
            "tags": []
          }
        },
        {
          "output_type": "stream",
          "text": [
            "Saving articles.csv to articles.csv\n"
          ],
          "name": "stdout"
        }
      ]
    },
    {
      "cell_type": "code",
      "metadata": {
        "id": "97ChSQhMqR5q"
      },
      "source": [
        "import io\n",
        "data = pd.read_csv(io.BytesIO(uploaded['articles.csv']))\n",
        "# Dataset is now stored in a Pandas Dataframe"
      ],
      "execution_count": 13,
      "outputs": []
    },
    {
      "cell_type": "markdown",
      "metadata": {
        "id": "BzMcskjfMoBn"
      },
      "source": [
        "###Inspacting your data\n",
        "####Context\n",
        "Medium is one of the most famous tools for spreading knowledge about almost any field. It is widely used to published articles on ML, AI, and data science. This dataset is the collection of about 350 articles in such fields.\n",
        "\n",
        "###Content\n",
        "The dataset contains articles, their title, number of claps it has received, their links and their reading time.\n",
        "  "
      ]
    },
    {
      "cell_type": "markdown",
      "metadata": {
        "id": "lp1b_fSuWfYG"
      },
      "source": [
        "####**.head( ) function : take a look at the *first* few rows your data**\n",
        "At the beginning of any data analysis, explore the structure of the data set you'll be working with using the **head( )** function. The output will include the top 5 rows in your data set. To specify the exact number of rows shown, enter the number in head's brakets. For example: head(3) would give the first 3 rows."
      ]
    },
    {
      "cell_type": "code",
      "metadata": {
        "id": "N2-8ZCh_Uu6A",
        "outputId": "74361fdb-00ae-4cd3-d850-2e4c71fb7f0c",
        "colab": {
          "base_uri": "https://localhost:8080/",
          "height": 204
        }
      },
      "source": [
        "data.head()\n"
      ],
      "execution_count": 14,
      "outputs": [
        {
          "output_type": "execute_result",
          "data": {
            "text/html": [
              "<div>\n",
              "<style scoped>\n",
              "    .dataframe tbody tr th:only-of-type {\n",
              "        vertical-align: middle;\n",
              "    }\n",
              "\n",
              "    .dataframe tbody tr th {\n",
              "        vertical-align: top;\n",
              "    }\n",
              "\n",
              "    .dataframe thead th {\n",
              "        text-align: right;\n",
              "    }\n",
              "</style>\n",
              "<table border=\"1\" class=\"dataframe\">\n",
              "  <thead>\n",
              "    <tr style=\"text-align: right;\">\n",
              "      <th></th>\n",
              "      <th>author</th>\n",
              "      <th>claps</th>\n",
              "      <th>reading_time</th>\n",
              "      <th>link</th>\n",
              "      <th>title</th>\n",
              "      <th>text</th>\n",
              "    </tr>\n",
              "  </thead>\n",
              "  <tbody>\n",
              "    <tr>\n",
              "      <th>0</th>\n",
              "      <td>Justin Lee</td>\n",
              "      <td>8.3K</td>\n",
              "      <td>11</td>\n",
              "      <td>https://medium.com/swlh/chatbots-were-the-next...</td>\n",
              "      <td>Chatbots were the next big thing: what happene...</td>\n",
              "      <td>Oh, how the headlines blared:\\nChatbots were T...</td>\n",
              "    </tr>\n",
              "    <tr>\n",
              "      <th>1</th>\n",
              "      <td>Conor Dewey</td>\n",
              "      <td>1.4K</td>\n",
              "      <td>7</td>\n",
              "      <td>https://towardsdatascience.com/python-for-data...</td>\n",
              "      <td>Python for Data Science: 8 Concepts You May Ha...</td>\n",
              "      <td>If you’ve ever found yourself looking up the s...</td>\n",
              "    </tr>\n",
              "    <tr>\n",
              "      <th>2</th>\n",
              "      <td>William Koehrsen</td>\n",
              "      <td>2.8K</td>\n",
              "      <td>11</td>\n",
              "      <td>https://towardsdatascience.com/automated-featu...</td>\n",
              "      <td>Automated Feature Engineering in Python – Towa...</td>\n",
              "      <td>Machine learning is increasingly moving from h...</td>\n",
              "    </tr>\n",
              "    <tr>\n",
              "      <th>3</th>\n",
              "      <td>Gant Laborde</td>\n",
              "      <td>1.3K</td>\n",
              "      <td>7</td>\n",
              "      <td>https://medium.freecodecamp.org/machine-learni...</td>\n",
              "      <td>Machine Learning: how to go from Zero to Hero ...</td>\n",
              "      <td>If your understanding of A.I. and Machine Lear...</td>\n",
              "    </tr>\n",
              "    <tr>\n",
              "      <th>4</th>\n",
              "      <td>Emmanuel Ameisen</td>\n",
              "      <td>935</td>\n",
              "      <td>11</td>\n",
              "      <td>https://blog.insightdatascience.com/reinforcem...</td>\n",
              "      <td>Reinforcement Learning from scratch – Insight ...</td>\n",
              "      <td>Want to learn about applied Artificial Intelli...</td>\n",
              "    </tr>\n",
              "  </tbody>\n",
              "</table>\n",
              "</div>"
            ],
            "text/plain": [
              "             author  ...                                               text\n",
              "0        Justin Lee  ...  Oh, how the headlines blared:\\nChatbots were T...\n",
              "1       Conor Dewey  ...  If you’ve ever found yourself looking up the s...\n",
              "2  William Koehrsen  ...  Machine learning is increasingly moving from h...\n",
              "3      Gant Laborde  ...  If your understanding of A.I. and Machine Lear...\n",
              "4  Emmanuel Ameisen  ...  Want to learn about applied Artificial Intelli...\n",
              "\n",
              "[5 rows x 6 columns]"
            ]
          },
          "metadata": {
            "tags": []
          },
          "execution_count": 14
        }
      ]
    },
    {
      "cell_type": "markdown",
      "metadata": {
        "id": "zMZNiByt0ks0"
      },
      "source": [
        "####**.tail() function: take a look at the *last* few rows of your data**\n",
        "After exploring the first few rows of your data using the .head() function, it is important to also look at the last few rows of your data, especially in large data sets.\n"
      ]
    },
    {
      "cell_type": "code",
      "metadata": {
        "id": "HFe-fiYC1BUi",
        "outputId": "0c696eb2-68ba-4bed-b571-cda1cbc21703",
        "colab": {
          "base_uri": "https://localhost:8080/",
          "height": 204
        }
      },
      "source": [
        "data.tail()"
      ],
      "execution_count": 15,
      "outputs": [
        {
          "output_type": "execute_result",
          "data": {
            "text/html": [
              "<div>\n",
              "<style scoped>\n",
              "    .dataframe tbody tr th:only-of-type {\n",
              "        vertical-align: middle;\n",
              "    }\n",
              "\n",
              "    .dataframe tbody tr th {\n",
              "        vertical-align: top;\n",
              "    }\n",
              "\n",
              "    .dataframe thead th {\n",
              "        text-align: right;\n",
              "    }\n",
              "</style>\n",
              "<table border=\"1\" class=\"dataframe\">\n",
              "  <thead>\n",
              "    <tr style=\"text-align: right;\">\n",
              "      <th></th>\n",
              "      <th>author</th>\n",
              "      <th>claps</th>\n",
              "      <th>reading_time</th>\n",
              "      <th>link</th>\n",
              "      <th>title</th>\n",
              "      <th>text</th>\n",
              "    </tr>\n",
              "  </thead>\n",
              "  <tbody>\n",
              "    <tr>\n",
              "      <th>332</th>\n",
              "      <td>Daniel Simmons</td>\n",
              "      <td>3.4K</td>\n",
              "      <td>8</td>\n",
              "      <td>https://itnext.io/you-can-build-a-neural-netwo...</td>\n",
              "      <td>You can build a neural network in JavaScript e...</td>\n",
              "      <td>Click here to share this article on LinkedIn »...</td>\n",
              "    </tr>\n",
              "    <tr>\n",
              "      <th>333</th>\n",
              "      <td>Eugenio Culurciello</td>\n",
              "      <td>2.8K</td>\n",
              "      <td>13</td>\n",
              "      <td>https://towardsdatascience.com/artificial-inte...</td>\n",
              "      <td>Artificial Intelligence, AI in 2018 and beyond...</td>\n",
              "      <td>These are my opinions on where deep neural net...</td>\n",
              "    </tr>\n",
              "    <tr>\n",
              "      <th>334</th>\n",
              "      <td>Devin Soni</td>\n",
              "      <td>5.8K</td>\n",
              "      <td>4</td>\n",
              "      <td>https://towardsdatascience.com/spiking-neural-...</td>\n",
              "      <td>Spiking Neural Networks, the Next Generation o...</td>\n",
              "      <td>Everyone who has been remotely tuned in to rec...</td>\n",
              "    </tr>\n",
              "    <tr>\n",
              "      <th>335</th>\n",
              "      <td>Carlos E. Perez</td>\n",
              "      <td>3.9K</td>\n",
              "      <td>7</td>\n",
              "      <td>https://medium.com/intuitionmachine/neurons-ar...</td>\n",
              "      <td>Surprise! Neurons are Now More Complex than We...</td>\n",
              "      <td>One of the biggest misconceptions around is th...</td>\n",
              "    </tr>\n",
              "    <tr>\n",
              "      <th>336</th>\n",
              "      <td>Nityesh Agarwal</td>\n",
              "      <td>2.4K</td>\n",
              "      <td>13</td>\n",
              "      <td>https://towardsdatascience.com/wth-does-a-neur...</td>\n",
              "      <td>“WTH does a neural network even learn??” — a n...</td>\n",
              "      <td>I believe, we all have that psychologist/philo...</td>\n",
              "    </tr>\n",
              "  </tbody>\n",
              "</table>\n",
              "</div>"
            ],
            "text/plain": [
              "                  author  ...                                               text\n",
              "332       Daniel Simmons  ...  Click here to share this article on LinkedIn »...\n",
              "333  Eugenio Culurciello  ...  These are my opinions on where deep neural net...\n",
              "334           Devin Soni  ...  Everyone who has been remotely tuned in to rec...\n",
              "335      Carlos E. Perez  ...  One of the biggest misconceptions around is th...\n",
              "336      Nityesh Agarwal  ...  I believe, we all have that psychologist/philo...\n",
              "\n",
              "[5 rows x 6 columns]"
            ]
          },
          "metadata": {
            "tags": []
          },
          "execution_count": 15
        }
      ]
    },
    {
      "cell_type": "markdown",
      "metadata": {
        "id": "BgB0oERBH-UY"
      },
      "source": [
        "####**.shape function : check the number of rows and columns in your data**\n",
        "\n",
        "This function will provide the number of rows and columns (in this order) that exist in your dataset. "
      ]
    },
    {
      "cell_type": "code",
      "metadata": {
        "id": "V2mumkhRIpZK",
        "outputId": "2598afdd-5979-431e-84e2-53c600cadb49",
        "colab": {
          "base_uri": "https://localhost:8080/",
          "height": 51
        }
      },
      "source": [
        "print(type(data))   # Will output the type of data imported. In this case: DataFrame\n",
        "print(data.shape)   # Will output the number of rows & columns in the imported dataset (rows,columns)"
      ],
      "execution_count": 16,
      "outputs": [
        {
          "output_type": "stream",
          "text": [
            "<class 'pandas.core.frame.DataFrame'>\n",
            "(337, 6)\n"
          ],
          "name": "stdout"
        }
      ]
    },
    {
      "cell_type": "markdown",
      "metadata": {
        "id": "etb603VoKNS3"
      },
      "source": [
        "####**.index & .columns functions**"
      ]
    },
    {
      "cell_type": "code",
      "metadata": {
        "id": "ftifNjseKeZp",
        "outputId": "9972269a-3e50-4287-c333-f5a37c060c4e",
        "colab": {
          "base_uri": "https://localhost:8080/",
          "height": 51
        }
      },
      "source": [
        "print(data.columns) # Will provide an output of all the columns names including the data type excluding the index column\n",
        "print(data.index)   # Will provide an output of the index column in the dataset including the data type and column name \n"
      ],
      "execution_count": 17,
      "outputs": [
        {
          "output_type": "stream",
          "text": [
            "Index(['author', 'claps', 'reading_time', 'link', 'title', 'text'], dtype='object')\n",
            "RangeIndex(start=0, stop=337, step=1)\n"
          ],
          "name": "stdout"
        }
      ]
    },
    {
      "cell_type": "markdown",
      "metadata": {
        "id": "zsXB2OHo6Mb1"
      },
      "source": [
        "####**.info() function: Explore data types and nulls/ NaNs in your data**"
      ]
    },
    {
      "cell_type": "code",
      "metadata": {
        "id": "9QNDIykc6ihq",
        "outputId": "26a1cd0d-cf3b-49f2-f7ab-64ebba5fe467",
        "colab": {
          "base_uri": "https://localhost:8080/",
          "height": 238
        }
      },
      "source": [
        "data.info()  # Will provide an output of the data types as well as where the data have missing values"
      ],
      "execution_count": 18,
      "outputs": [
        {
          "output_type": "stream",
          "text": [
            "<class 'pandas.core.frame.DataFrame'>\n",
            "RangeIndex: 337 entries, 0 to 336\n",
            "Data columns (total 6 columns):\n",
            " #   Column        Non-Null Count  Dtype \n",
            "---  ------        --------------  ----- \n",
            " 0   author        337 non-null    object\n",
            " 1   claps         337 non-null    object\n",
            " 2   reading_time  337 non-null    int64 \n",
            " 3   link          337 non-null    object\n",
            " 4   title         337 non-null    object\n",
            " 5   text          337 non-null    object\n",
            "dtypes: int64(1), object(5)\n",
            "memory usage: 15.9+ KB\n"
          ],
          "name": "stdout"
        }
      ]
    },
    {
      "cell_type": "markdown",
      "metadata": {
        "id": "cJuqCqOj8kwn"
      },
      "source": [
        "####**.unique() function: returns an array of the unique values**\n"
      ]
    },
    {
      "cell_type": "code",
      "metadata": {
        "id": "uVk7zXKO8xNu",
        "outputId": "5d51ba7d-d622-4b0b-c8ab-c67cf60d453a",
        "colab": {
          "base_uri": "https://localhost:8080/",
          "height": 901
        }
      },
      "source": [
        "data.author.unique()"
      ],
      "execution_count": 19,
      "outputs": [
        {
          "output_type": "execute_result",
          "data": {
            "text/plain": [
              "array(['Justin Lee', 'Conor Dewey', 'William Koehrsen', 'Gant Laborde',\n",
              "       'Emmanuel Ameisen', 'Irhum Shafkat', 'Sam Drozdov',\n",
              "       'Abhishek Parbhakar', 'Aman Dalmia', 'Sophia Arakelyan',\n",
              "       'Dr. GP Pulipaka', 'Scott Santens', 'Adam Geitgey', 'Xiaohan Zeng',\n",
              "       'Gil Fewster', 'David Venturi', 'Michael Jordan', 'Eran Kampf',\n",
              "       'Oliver Lindberg', 'Xu Wenhao', 'Netflix Technology Blog',\n",
              "       'Wolf Garbe', 'Paul Christiano', 'Robbie Tilton',\n",
              "       'James Faghmous ', 'Datafiniti', 'Arjan Haring 🔮🔨', 'Eventbrite',\n",
              "       'Akash Shende', 'Hrishikesh Huilgolkar', 'Shivon Zilis',\n",
              "       'AirbnbEng', 'Yingjie Miao ', 'Pinterest Engineering',\n",
              "       'Nikhil Dandekar', 'Jeff Smith', 'Chris Jagers', 'John Wittenauer',\n",
              "       'Christopher Nguyen', 'Per Harald Borgen', 'Ahmed El Deeb',\n",
              "       'Matt Fogel', 'Illia Polosukhin', 'Christophe Bourguignat',\n",
              "       \"I'Boss Potiwarakorn\", 'samim', 'Arthur Juliani', 'Tal Perry',\n",
              "       'Andrej Karpathy', 'Vishal Maini', 'Tim Anglade', 'Sophia Ciocca',\n",
              "       'Dhruv Parthasarathy', 'Sebastian Heinz', 'Blaise Aguera y Arcas',\n",
              "       'James Le', 'Mybridge', 'David Foster', 'George Seif',\n",
              "       'Simon Greenman', 'Eugenio Culurciello', 'WiseWolf Fund',\n",
              "       'Michael Solana', 'Lance Ulanoff', 'Matt Schlicht',\n",
              "       'Milo Spencer-Harper', 'Greg Fish', 'Frank Diana', 'Wildcat2030',\n",
              "       'Theo', 'x.ai', 'Roland Trimmel', 'Espen Waldal', 'Joe Johnston',\n",
              "       'Nadav Gur', 'Pandorabots', 'Denny Vrandečić', 'Thaddeus Howze',\n",
              "       'Tommy Thompson', 'Arik Sosman', 'Tony Aubé', \"Matt O'Leary\",\n",
              "       'Tanay Jaipuria', 'Ben Brown', 'Rand Hindi', 'Chris Dixon',\n",
              "       'François Chollet', 'Max Pechyonkin', 'Slav Ivanov',\n",
              "       'Geoff Nesnow', 'Aman Agarwal', 'Gaurav Kaila', 'James Loy',\n",
              "       'Chintan Trivedi', 'Leon Zhou', 'Erick Muzart Fonseca dos Santos',\n",
              "       'Chris Kalahiki', 'Stefan Kojouharov', 'Francesco Gadaleta',\n",
              "       'Jim Fleming', 'Christian Hernandez', 'Venture Scanner',\n",
              "       'Derrick Harris', 'Kyle McDonald', 'Nathan Benaich',\n",
              "       'Erik Hallström', 'Alexandr Honchar', 'Arvind N', 'Gary Marcus',\n",
              "       'Bargava', 'Seth Weidman', 'Gabriel Aldamiz...', 'Sarthak Jain',\n",
              "       'Emil Wallner', 'James JD Sutton', 'Kai Stinchcombe',\n",
              "       'savedroid ICO', 'Brandon Morelli', 'Gabriel Jiménez',\n",
              "       'Tyler Elliot Bettilyon', 'Berit Anderson', 'Sirui Li',\n",
              "       'Diana Filippova', 'Peter Sweeney', 'E.C. McCarthy',\n",
              "       'Jorge Camacho', 'Matt Wiese', \"Tim O'Reilly\", 'James Cooper',\n",
              "       'Joel Leeman', 'Scott Smith', 'iDanScott', 'Josh', 'paulson',\n",
              "       'Christopher Wolf Nordlinger', 'Louis Rosenfeld', 'Matt Harvey',\n",
              "       'Vivek Yadav', 'Carlos Beltran', 'Oxford University',\n",
              "       'Maciej Lipiec', 'Camron Godbout', 'Dominik Felix', 'Greg Gascon',\n",
              "       'Keval Patel', 'Eduard Tyantov', 'Maruti Techlabs', 'Jerry Chen',\n",
              "       'Gaurav Oberoi', 'Nick Bourdakos', 'Mark Johnson',\n",
              "       'Leigh Alexander', 'Daniel Simmons', 'Logan Spears', 'Bharath Raj',\n",
              "       'Daniel Rothmann', 'Amine Aoullay', 'Jonathan Balaban',\n",
              "       'SAGAR SHARMA', 'Jae Duk Seo', 'Wallarm', 'Maryna Hlaiboroda',\n",
              "       'Kelvin Li', 'Avinash Sharma V', \"Elle O'Brien\", 'Karl N.',\n",
              "       'Nikolai Savas', 'Dr Ben Medlock', 'Nieves Ábalos', 'Rohan Kapur',\n",
              "       'Shi Yan', 'Ross Goodwin', 'Eric Elliott', 'Waleed Abdulla', 'gk_',\n",
              "       'nafrondel', 'Neelabh Pant', 'Favio Vázquez',\n",
              "       'Oleksandr Savsunenko', 'Devin Soni', 'Carlos E. Perez',\n",
              "       'Nityesh Agarwal'], dtype=object)"
            ]
          },
          "metadata": {
            "tags": []
          },
          "execution_count": 19
        }
      ]
    },
    {
      "cell_type": "markdown",
      "metadata": {
        "id": "ty2YGhA0i_kN"
      },
      "source": [
        "###**Data cleaning & organizing**"
      ]
    },
    {
      "cell_type": "markdown",
      "metadata": {
        "id": "Vz8e-2D7k-gH"
      },
      "source": [
        "####**Index Column**\n",
        "\n"
      ]
    },
    {
      "cell_type": "markdown",
      "metadata": {
        "id": "iedeNGC8llQV"
      },
      "source": [
        "当需要指定需要用作索引的列时，可以重新导入数据集，指定要用作索引的列索引位置。\n",
        "When there's a need to specify the column needed to be used as index, you can reimport the data set, specificing the column index location of which you'd like to use as index. \n",
        "\n",
        "\n",
        "```\n",
        "pd.read_csv(source, index_coll=0)\n",
        "```\n"
      ]
    },
    {
      "cell_type": "markdown",
      "metadata": {
        "id": "_z5PAj8xPm2s"
      },
      "source": [
        "####**Columns labels**\n",
        "\n",
        "\n"
      ]
    },
    {
      "cell_type": "markdown",
      "metadata": {
        "id": "x8yIek6CXZYz"
      },
      "source": [
        "在某些情况下，导入的数据将没有列名，或者我们需要调整列名以使其更清晰。\n",
        "In some cases the data imported will not have columns names or we'll need to adjust the column names to make them clearer.\n",
        "\n",
        "To do that, we can create a list of columns names (str) and store it under 'columns_names'. Then, use the 'names=' keyword when importing the data. \n",
        "\n",
        "\n",
        "\n",
        "```\n",
        "\n",
        "columns_names = ['author', 'claps', 'reading_time', 'link', 'title', 'text']\n",
        "\n",
        "pd.read_csv (data,index_col=0,names=columns_names )\n",
        "```"
      ]
    },
    {
      "cell_type": "markdown",
      "metadata": {
        "id": "OqZSZ4edTAVl"
      },
      "source": [
        "####**Assigning N/A values**\n",
        "\n"
      ]
    },
    {
      "cell_type": "markdown",
      "metadata": {
        "id": "1YKsgd4Zlovu"
      },
      "source": [
        "在缺少数据的情况下，我们可以定义为它分配的值。\n",
        "In cases where there's missing data, we can define the values to be assigned for it. \n",
        "\n",
        "```\n",
        "# When importing the data we can specify the column which includes the NA values and the way NA is defined in the data \n",
        "data=pd.read_csv (source,index_col=0,names=columns_names,na_values={'column_name':[' NaN']} ) \n",
        "\n",
        "```\n",
        "\n"
      ]
    },
    {
      "cell_type": "markdown",
      "metadata": {
        "id": "ODqP_FV_t-Xl"
      },
      "source": [
        "####**Changing column values format: From 'K' to 1000**"
      ]
    },
    {
      "cell_type": "code",
      "metadata": {
        "id": "lkTNCx_2tK-c",
        "outputId": "fa45c490-06eb-474f-893d-b571399910ea",
        "colab": {
          "base_uri": "https://localhost:8080/",
          "height": 340
        }
      },
      "source": [
        "data.loc[:,'claps'] = data['claps'].replace('K','000').astype(int)\n",
        "data.loc[:,'claps'].unique()"
      ],
      "execution_count": 41,
      "outputs": [
        {
          "output_type": "execute_result",
          "data": {
            "text/plain": [
              "array([ 8300,  1400,  2800,  1300,   935,  2000,  2300,   252,   937,\n",
              "           7,     2,  7300, 35000, 14200, 15200, 48000,  3300, 10400,\n",
              "       10600, 34000,    57,     1,   439,   365,     6,    43,     3,\n",
              "         330,   187,    10,  1200,   369,   113,   116,    20,    45,\n",
              "          25,   991,  2100,   593,   938,   255,   283,   157,   128,\n",
              "         301,   517,  9000,  6800,  5800,  2600,  9200,  4800, 32000,\n",
              "        7000, 53000,  4300,  4400, 25000,  8700, 18400, 12800, 10100,\n",
              "       11400,  6600, 10200,  6400,   680, 15100,  5000,  7800,    50,\n",
              "           5,    38,    14,     4,    15,    17,  1500,  4500,   373,\n",
              "        1100,  2200,   428,   693,   323,  5300, 23000,  3900, 14900,\n",
              "       16800,  8500,  1700,   184,    16,    30,    99,   294,  1800,\n",
              "         364,   207,   108,   124,   109,   165,   264,  2500,  3500,\n",
              "        1910,  8000,  9500, 11800,  5100,  9100,   511, 44000,   340,\n",
              "         221, 17900,  1600,   215,   125,    19,    69,    83,    18,\n",
              "           8,    90,   677,   425,    97,   558,   237,   766,   341,\n",
              "         286,   368,   833,  5400,   552,   850,  3700,  2700,  3400,\n",
              "         302,    58,   804,    33,    72,    56,  6900,  2900,   462,\n",
              "         317,    42,    32,  1000,   686,   947,   665,   507,  5500,\n",
              "        2400])"
            ]
          },
          "metadata": {
            "tags": []
          },
          "execution_count": 41
        }
      ]
    },
    {
      "cell_type": "code",
      "metadata": {
        "id": "0QmUZbGdANQK"
      },
      "source": [
        "# replace K with 1000 and create 'claps' column an int64 type #\n",
        "\n",
        "# Casting column 'claps' values as str\n",
        "data['claps'].astype('str')   \n",
        "# Storing under K True/False for all values in 'Claps' column to locate values that end with 'K'        \n",
        "K = data['claps'].str.endswith('K') \n",
        "# Storing under old_value all values in 'claps' column that end with K\n",
        "old_value = data.loc[K,'claps']\n",
        "# replacting 'K' in old_value with '000', casting the values as a float and multiplying by 1000 to get the real values\n",
        "new = old_value.str.replace('K','').astype('float') *1000\n",
        "# replacing old_value with the new ones in the claps column and casting the data in the column as integer\n",
        "data.loc[:,'claps']=data.loc[:,'claps'].replace(np.array(old_value),np.array(new)).astype(int)\n",
        "\n"
      ],
      "execution_count": 20,
      "outputs": []
    },
    {
      "cell_type": "markdown",
      "metadata": {
        "id": "LYKbEjaX-oMX"
      },
      "source": [
        "####**Adding 2 columns: Title length, Text length**"
      ]
    },
    {
      "cell_type": "code",
      "metadata": {
        "id": "B4_qg7h977zC"
      },
      "source": [
        "# Creating new column for title len \n",
        "# Passing values through str.len() \n",
        "data['title_len']=data.title.str.len()\n",
        "\n",
        "# Creating new column for title len \n",
        "# Passing values through str.len() \n",
        "data['text_len']=data.text.str.len()"
      ],
      "execution_count": 21,
      "outputs": []
    },
    {
      "cell_type": "code",
      "metadata": {
        "id": "WQXjp0ZgudHP",
        "outputId": "898408b4-0ed7-475d-88d3-083b9f4315b5",
        "colab": {
          "base_uri": "https://localhost:8080/",
          "height": 204
        }
      },
      "source": [
        "data.head()"
      ],
      "execution_count": 42,
      "outputs": [
        {
          "output_type": "execute_result",
          "data": {
            "text/html": [
              "<div>\n",
              "<style scoped>\n",
              "    .dataframe tbody tr th:only-of-type {\n",
              "        vertical-align: middle;\n",
              "    }\n",
              "\n",
              "    .dataframe tbody tr th {\n",
              "        vertical-align: top;\n",
              "    }\n",
              "\n",
              "    .dataframe thead th {\n",
              "        text-align: right;\n",
              "    }\n",
              "</style>\n",
              "<table border=\"1\" class=\"dataframe\">\n",
              "  <thead>\n",
              "    <tr style=\"text-align: right;\">\n",
              "      <th></th>\n",
              "      <th>author</th>\n",
              "      <th>claps</th>\n",
              "      <th>reading_time</th>\n",
              "      <th>link</th>\n",
              "      <th>title</th>\n",
              "      <th>text</th>\n",
              "      <th>title_len</th>\n",
              "      <th>text_len</th>\n",
              "    </tr>\n",
              "  </thead>\n",
              "  <tbody>\n",
              "    <tr>\n",
              "      <th>0</th>\n",
              "      <td>Justin Lee</td>\n",
              "      <td>8300</td>\n",
              "      <td>11</td>\n",
              "      <td>https://medium.com/swlh/chatbots-were-the-next...</td>\n",
              "      <td>Chatbots were the next big thing: what happene...</td>\n",
              "      <td>Oh, how the headlines blared:\\nChatbots were T...</td>\n",
              "      <td>71</td>\n",
              "      <td>12129</td>\n",
              "    </tr>\n",
              "    <tr>\n",
              "      <th>1</th>\n",
              "      <td>Conor Dewey</td>\n",
              "      <td>1400</td>\n",
              "      <td>7</td>\n",
              "      <td>https://towardsdatascience.com/python-for-data...</td>\n",
              "      <td>Python for Data Science: 8 Concepts You May Ha...</td>\n",
              "      <td>If you’ve ever found yourself looking up the s...</td>\n",
              "      <td>58</td>\n",
              "      <td>7730</td>\n",
              "    </tr>\n",
              "    <tr>\n",
              "      <th>2</th>\n",
              "      <td>William Koehrsen</td>\n",
              "      <td>2800</td>\n",
              "      <td>11</td>\n",
              "      <td>https://towardsdatascience.com/automated-featu...</td>\n",
              "      <td>Automated Feature Engineering in Python – Towa...</td>\n",
              "      <td>Machine learning is increasingly moving from h...</td>\n",
              "      <td>62</td>\n",
              "      <td>14070</td>\n",
              "    </tr>\n",
              "    <tr>\n",
              "      <th>3</th>\n",
              "      <td>Gant Laborde</td>\n",
              "      <td>1300</td>\n",
              "      <td>7</td>\n",
              "      <td>https://medium.freecodecamp.org/machine-learni...</td>\n",
              "      <td>Machine Learning: how to go from Zero to Hero ...</td>\n",
              "      <td>If your understanding of A.I. and Machine Lear...</td>\n",
              "      <td>60</td>\n",
              "      <td>8076</td>\n",
              "    </tr>\n",
              "    <tr>\n",
              "      <th>4</th>\n",
              "      <td>Emmanuel Ameisen</td>\n",
              "      <td>935</td>\n",
              "      <td>11</td>\n",
              "      <td>https://blog.insightdatascience.com/reinforcem...</td>\n",
              "      <td>Reinforcement Learning from scratch – Insight ...</td>\n",
              "      <td>Want to learn about applied Artificial Intelli...</td>\n",
              "      <td>50</td>\n",
              "      <td>13784</td>\n",
              "    </tr>\n",
              "  </tbody>\n",
              "</table>\n",
              "</div>"
            ],
            "text/plain": [
              "             author  claps  ...  title_len text_len\n",
              "0        Justin Lee   8300  ...         71    12129\n",
              "1       Conor Dewey   1400  ...         58     7730\n",
              "2  William Koehrsen   2800  ...         62    14070\n",
              "3      Gant Laborde   1300  ...         60     8076\n",
              "4  Emmanuel Ameisen    935  ...         50    13784\n",
              "\n",
              "[5 rows x 8 columns]"
            ]
          },
          "metadata": {
            "tags": []
          },
          "execution_count": 42
        }
      ]
    },
    {
      "cell_type": "markdown",
      "metadata": {
        "id": "n3WsMyCpy41W"
      },
      "source": [
        "#### **Cleaned table view**"
      ]
    },
    {
      "cell_type": "code",
      "metadata": {
        "id": "qx460fGLyTrp",
        "outputId": "37ba4ecf-5d10-4e2a-831d-80fdd68a36bc",
        "colab": {
          "base_uri": "https://localhost:8080/",
          "height": 289
        }
      },
      "source": [
        "print('First 5 columns:', data.head())\n",
        "print('Last 5 columns:', data.tail())"
      ],
      "execution_count": 22,
      "outputs": [
        {
          "output_type": "stream",
          "text": [
            "First 5 columns:              author  claps  ...  title_len text_len\n",
            "0        Justin Lee   8300  ...         71    12129\n",
            "1       Conor Dewey   1400  ...         58     7730\n",
            "2  William Koehrsen   2800  ...         62    14070\n",
            "3      Gant Laborde   1300  ...         60     8076\n",
            "4  Emmanuel Ameisen    935  ...         50    13784\n",
            "\n",
            "[5 rows x 8 columns]\n",
            "Last 5 columns:                   author  claps  ...  title_len text_len\n",
            "332       Daniel Simmons   3400  ...         96     9955\n",
            "333  Eugenio Culurciello   2800  ...         69    11479\n",
            "334           Devin Soni   5800  ...         64     4445\n",
            "335      Carlos E. Perez   3900  ...         56     7140\n",
            "336      Nityesh Agarwal   2400  ...         63    12116\n",
            "\n",
            "[5 rows x 8 columns]\n"
          ],
          "name": "stdout"
        }
      ]
    },
    {
      "cell_type": "markdown",
      "metadata": {
        "id": "kcx-ngb9jVQE"
      },
      "source": [
        "###**Visual exploratory data analysis**\n"
      ]
    },
    {
      "cell_type": "markdown",
      "metadata": {
        "id": "7UKIJvDhqs48"
      },
      "source": [
        "在数据分析的开始，我们会想要探索任何可能的关系和我们可以从数据中学到的其他见解。\n",
        "使用线/框/散点图和柱状图进行可视化探索，可以让我们第一次了解数据中可能存在的关系。\n",
        "除了视觉探索，我们还将进行统计探索。它们将为我们提供更完整的视图，更好地理解数据。现在，我们将使用panda绘图函数(构建在matplotlib库上)。\n",
        "\n",
        "At the beginning of a data analysis we'll want to explore any possible relationships and other insights we can learn from the data. \n",
        "\n",
        "Visual exploration using line/box/scatter plots and histograms will provide a first look into the possible relationships that lies within the data. \n",
        "\n",
        "In addition to the visual exploration, we'll also conduct statistical exploration. Together they'll provide us with a more complete view and better understanding of the data. At this point, we'll use Pandas ploting functions (which are built on the matplotlib library). "
      ]
    },
    {
      "cell_type": "markdown",
      "metadata": {
        "id": "UpHNCWPDo1se"
      },
      "source": [
        "#####**Histogram**\n",
        "Scatter plots requires specifying the plot kind to 'hist'. There are several options for customizing histograms:\n",
        "\n",
        "\n",
        "\n",
        "```\n",
        "# bins(int)            = number of intervals or bins\n",
        "# range(tuple)         = extrema of bins (minimum, maximum) \n",
        "# density(boolean)      = whether to normalize to one (used to be normed)\n",
        "# cumulative (boolean) = compute Cumulative Distribution Function (CDF)\n",
        "```\n",
        "\n"
      ]
    },
    {
      "cell_type": "code",
      "metadata": {
        "id": "3Pww3jNXPpUZ",
        "outputId": "1fa1c27d-5a65-474b-d222-ffb9ec83cff9",
        "colab": {
          "base_uri": "https://localhost:8080/",
          "height": 282
        }
      },
      "source": [
        "title ='Medium blogs text length'\n",
        "x ='Number of charecters in post'\n",
        "y = 'Frequency'\n",
        "\n",
        "data['claps'].plot(kind='hist',bins=30)"
      ],
      "execution_count": 23,
      "outputs": [
        {
          "output_type": "execute_result",
          "data": {
            "text/plain": [
              "<matplotlib.axes._subplots.AxesSubplot at 0x7f0563f6c2e8>"
            ]
          },
          "metadata": {
            "tags": []
          },
          "execution_count": 23
        },
        {
          "output_type": "display_data",
          "data": {
            "image/png": "[encoded data removed]",
            "text/plain": [
              "<Figure size 432x288 with 1 Axes>"
            ]
          },
          "metadata": {
            "tags": [],
            "needs_background": "light"
          }
        }
      ]
    },
    {
      "cell_type": "markdown",
      "metadata": {
        "id": "xcy9npCMbrMJ"
      },
      "source": [
        "#####**Line plot**\n",
        "Line plots require specificing the X, Y columns to be used. "
      ]
    },
    {
      "cell_type": "code",
      "metadata": {
        "id": "05j0sON0cKdN",
        "outputId": "0f9f9c0e-b0ce-4396-d0ad-a2e9eb33e477",
        "colab": {
          "base_uri": "https://localhost:8080/",
          "height": 280
        }
      },
      "source": [
        "data.plot (x='reading_time',y='text_len') # the default plot is a line plot. you'll need to specify the columns to be used for x,y.\n",
        "plt.show()"
      ],
      "execution_count": 24,
      "outputs": [
        {
          "output_type": "display_data",
          "data": {
            "image/png": "[encoded data removed]",
            "text/plain": [
              "<Figure size 432x288 with 1 Axes>"
            ]
          },
          "metadata": {
            "tags": [],
            "needs_background": "light"
          }
        }
      ]
    },
    {
      "cell_type": "markdown",
      "metadata": {
        "id": "GqsOJiwWzDJC"
      },
      "source": [
        "#####**Box plot**"
      ]
    },
    {
      "cell_type": "code",
      "metadata": {
        "id": "wqZQV3Bz23mP",
        "outputId": "3cf874eb-2272-4c8a-8b27-04eb3899b668",
        "colab": {
          "base_uri": "https://localhost:8080/",
          "height": 283
        }
      },
      "source": [
        "data.plot(kind='box',x='reading_time',y='text_len')"
      ],
      "execution_count": 25,
      "outputs": [
        {
          "output_type": "execute_result",
          "data": {
            "text/plain": [
              "<matplotlib.axes._subplots.AxesSubplot at 0x7f056399c470>"
            ]
          },
          "metadata": {
            "tags": []
          },
          "execution_count": 25
        },
        {
          "output_type": "display_data",
          "data": {
            "image/png": "[encoded data removed]",
            "text/plain": [
              "<Figure size 432x288 with 1 Axes>"
            ]
          },
          "metadata": {
            "tags": [],
            "needs_background": "light"
          }
        }
      ]
    },
    {
      "cell_type": "code",
      "metadata": {
        "id": "xSrtvZ_Y_ZQh",
        "outputId": "6d7d6abe-f8ed-4ee6-f376-f1095ab8229d",
        "colab": {
          "base_uri": "https://localhost:8080/",
          "height": 743
        }
      },
      "source": [
        "\n",
        "sns.pairplot(data)"
      ],
      "execution_count": 26,
      "outputs": [
        {
          "output_type": "execute_result",
          "data": {
            "text/plain": [
              "<seaborn.axisgrid.PairGrid at 0x7f056531a3c8>"
            ]
          },
          "metadata": {
            "tags": []
          },
          "execution_count": 26
        },
        {
          "output_type": "display_data",
          "data": {
            "image/png": "[encoded data removed]",
            "text/plain": [
              "<Figure size 720x720 with 20 Axes>"
            ]
          },
          "metadata": {
            "tags": [],
            "needs_background": "light"
          }
        }
      ]
    },
    {
      "cell_type": "markdown",
      "metadata": {
        "id": "Klvdw-u-vLod"
      },
      "source": [
        "\n",
        "\n",
        "###**Statistical exploratory data analysis** "
      ]
    },
    {
      "cell_type": "markdown",
      "metadata": {
        "id": "cd9x43EcV44h"
      },
      "source": [
        "####**.describe( ) function : summary statistics of your data**\n",
        "To start understanding how your data is distributed, use the .describe() function. "
      ]
    },
    {
      "cell_type": "code",
      "metadata": {
        "id": "cTJYf6pSVFj-",
        "outputId": "d071a05a-ccd4-43ee-c8d1-9085cdc95e3b",
        "colab": {
          "base_uri": "https://localhost:8080/",
          "height": 297
        }
      },
      "source": [
        "\n",
        "data.describe() # provides basic statistics for all the table's columns which inlcudes numerical values\n",
        "\n",
        "# count = number of entries \n",
        "# mean = average of entries\n",
        "# std = standard deviation\n",
        "# min = minimum entry\n",
        "# 25% = first quartile\n",
        "# 50% = median or second quartile\n",
        "# 75% = third quartile \n",
        "# max = maximum entry\n"
      ],
      "execution_count": 27,
      "outputs": [
        {
          "output_type": "execute_result",
          "data": {
            "text/html": [
              "<div>\n",
              "<style scoped>\n",
              "    .dataframe tbody tr th:only-of-type {\n",
              "        vertical-align: middle;\n",
              "    }\n",
              "\n",
              "    .dataframe tbody tr th {\n",
              "        vertical-align: top;\n",
              "    }\n",
              "\n",
              "    .dataframe thead th {\n",
              "        text-align: right;\n",
              "    }\n",
              "</style>\n",
              "<table border=\"1\" class=\"dataframe\">\n",
              "  <thead>\n",
              "    <tr style=\"text-align: right;\">\n",
              "      <th></th>\n",
              "      <th>claps</th>\n",
              "      <th>reading_time</th>\n",
              "      <th>title_len</th>\n",
              "      <th>text_len</th>\n",
              "    </tr>\n",
              "  </thead>\n",
              "  <tbody>\n",
              "    <tr>\n",
              "      <th>count</th>\n",
              "      <td>337.000000</td>\n",
              "      <td>337.000000</td>\n",
              "      <td>337.000000</td>\n",
              "      <td>337.000000</td>\n",
              "    </tr>\n",
              "    <tr>\n",
              "      <th>mean</th>\n",
              "      <td>5406.311573</td>\n",
              "      <td>9.700297</td>\n",
              "      <td>64.937685</td>\n",
              "      <td>11120.160237</td>\n",
              "    </tr>\n",
              "    <tr>\n",
              "      <th>std</th>\n",
              "      <td>9089.187145</td>\n",
              "      <td>5.482855</td>\n",
              "      <td>14.323193</td>\n",
              "      <td>7455.120310</td>\n",
              "    </tr>\n",
              "    <tr>\n",
              "      <th>min</th>\n",
              "      <td>1.000000</td>\n",
              "      <td>2.000000</td>\n",
              "      <td>24.000000</td>\n",
              "      <td>1350.000000</td>\n",
              "    </tr>\n",
              "    <tr>\n",
              "      <th>25%</th>\n",
              "      <td>157.000000</td>\n",
              "      <td>6.000000</td>\n",
              "      <td>55.000000</td>\n",
              "      <td>6103.000000</td>\n",
              "    </tr>\n",
              "    <tr>\n",
              "      <th>50%</th>\n",
              "      <td>2000.000000</td>\n",
              "      <td>8.000000</td>\n",
              "      <td>63.000000</td>\n",
              "      <td>8697.000000</td>\n",
              "    </tr>\n",
              "    <tr>\n",
              "      <th>75%</th>\n",
              "      <td>7000.000000</td>\n",
              "      <td>13.000000</td>\n",
              "      <td>72.000000</td>\n",
              "      <td>14237.000000</td>\n",
              "    </tr>\n",
              "    <tr>\n",
              "      <th>max</th>\n",
              "      <td>53000.000000</td>\n",
              "      <td>31.000000</td>\n",
              "      <td>104.000000</td>\n",
              "      <td>44527.000000</td>\n",
              "    </tr>\n",
              "  </tbody>\n",
              "</table>\n",
              "</div>"
            ],
            "text/plain": [
              "              claps  reading_time   title_len      text_len\n",
              "count    337.000000    337.000000  337.000000    337.000000\n",
              "mean    5406.311573      9.700297   64.937685  11120.160237\n",
              "std     9089.187145      5.482855   14.323193   7455.120310\n",
              "min        1.000000      2.000000   24.000000   1350.000000\n",
              "25%      157.000000      6.000000   55.000000   6103.000000\n",
              "50%     2000.000000      8.000000   63.000000   8697.000000\n",
              "75%     7000.000000     13.000000   72.000000  14237.000000\n",
              "max    53000.000000     31.000000  104.000000  44527.000000"
            ]
          },
          "metadata": {
            "tags": []
          },
          "execution_count": 27
        }
      ]
    },
    {
      "cell_type": "markdown",
      "metadata": {
        "id": "kIwQZ4LKwfz1"
      },
      "source": [
        "\n",
        "####**Running stand alone summary statistics functions**"
      ]
    },
    {
      "cell_type": "markdown",
      "metadata": {
        "id": "q7qe1tJBxL-f"
      },
      "source": [
        "In addition to the describe function, it's also possible to run summary statistics functions seperatly / one-by-one. \n"
      ]
    },
    {
      "cell_type": "markdown",
      "metadata": {
        "id": "VCD6jDsbxVyR"
      },
      "source": [
        "\n",
        "#####**.count( ) : count the number of entries**\n"
      ]
    },
    {
      "cell_type": "code",
      "metadata": {
        "id": "TSVVaLz_xj0P",
        "outputId": "80462e44-8dee-442f-df41-d59b71e279f0",
        "colab": {
          "base_uri": "https://localhost:8080/",
          "height": 170
        }
      },
      "source": [
        "data.count()\n",
        "\n",
        "#count() options includ:\n",
        "# axis = if 0 counts entries in column, if 1 counts entries in rows. default=0\n",
        "# level = int or str\n",
        "# numeric_only = default None\n"
      ],
      "execution_count": 28,
      "outputs": [
        {
          "output_type": "execute_result",
          "data": {
            "text/plain": [
              "author          337\n",
              "claps           337\n",
              "reading_time    337\n",
              "link            337\n",
              "title           337\n",
              "text            337\n",
              "title_len       337\n",
              "text_len        337\n",
              "dtype: int64"
            ]
          },
          "metadata": {
            "tags": []
          },
          "execution_count": 28
        }
      ]
    },
    {
      "cell_type": "markdown",
      "metadata": {
        "id": "CHGw_D2d2PBo"
      },
      "source": [
        "#####**.mean( ) : calculating the average of entries**\n"
      ]
    },
    {
      "cell_type": "code",
      "metadata": {
        "id": "CmAvsApD2PBr",
        "outputId": "5126578c-6441-4b0a-eafc-4431e5f2e5f3",
        "colab": {
          "base_uri": "https://localhost:8080/",
          "height": 102
        }
      },
      "source": [
        "data.mean()\n",
        "\n",
        "#important options to consider:\n",
        "#skipna = default False, allows calculating the average withough NA/NaN entries\n",
        "#numeric_only = default None, allows calculating the average for numeric values only\n"
      ],
      "execution_count": 29,
      "outputs": [
        {
          "output_type": "execute_result",
          "data": {
            "text/plain": [
              "claps            5406.311573\n",
              "reading_time        9.700297\n",
              "title_len          64.937685\n",
              "text_len        11120.160237\n",
              "dtype: float64"
            ]
          },
          "metadata": {
            "tags": []
          },
          "execution_count": 29
        }
      ]
    },
    {
      "cell_type": "markdown",
      "metadata": {
        "id": "QnwhlyTz3MmK"
      },
      "source": [
        "#####**.std( ) : Standard deviation**\n"
      ]
    },
    {
      "cell_type": "code",
      "metadata": {
        "id": "rLeFufhq3MmL",
        "outputId": "a2815598-c04e-4e12-fd34-b2fb2a35ef41",
        "colab": {
          "base_uri": "https://localhost:8080/",
          "height": 102
        }
      },
      "source": [
        "data.std()\n",
        "\n",
        "#important options to consider:\n",
        "#skipna = default False, allows calculating the average withough NA/NaN entries\n",
        "#numeric_only = default None, allows calculating the average for numeric values only\n"
      ],
      "execution_count": 30,
      "outputs": [
        {
          "output_type": "execute_result",
          "data": {
            "text/plain": [
              "claps           9089.187145\n",
              "reading_time       5.482855\n",
              "title_len         14.323193\n",
              "text_len        7455.120310\n",
              "dtype: float64"
            ]
          },
          "metadata": {
            "tags": []
          },
          "execution_count": 30
        }
      ]
    },
    {
      "cell_type": "markdown",
      "metadata": {
        "id": "Rd3VnHAb4idt"
      },
      "source": [
        "#####**.quantile( ) : Inter-quartile range (IQR)**\n"
      ]
    },
    {
      "cell_type": "code",
      "metadata": {
        "id": "gk5RauFg4idx",
        "outputId": "8a86127a-6540-413f-90db-aa4b5c73994c",
        "colab": {
          "base_uri": "https://localhost:8080/",
          "height": 142
        }
      },
      "source": [
        "data.quantile(q=(0.25,0.5,0.75))\n",
        "\n",
        "#important options to consider:\n",
        "\n",
        "#q = default 0.5 (50%) , should be defined for each quarntile needed to calculate\n",
        "#axis = if 0 calculates columns, if 1 calculates rows. default=0\n",
        "#numeric_only = default True, allows calculating the average for numeric values only\n"
      ],
      "execution_count": 31,
      "outputs": [
        {
          "output_type": "execute_result",
          "data": {
            "text/html": [
              "<div>\n",
              "<style scoped>\n",
              "    .dataframe tbody tr th:only-of-type {\n",
              "        vertical-align: middle;\n",
              "    }\n",
              "\n",
              "    .dataframe tbody tr th {\n",
              "        vertical-align: top;\n",
              "    }\n",
              "\n",
              "    .dataframe thead th {\n",
              "        text-align: right;\n",
              "    }\n",
              "</style>\n",
              "<table border=\"1\" class=\"dataframe\">\n",
              "  <thead>\n",
              "    <tr style=\"text-align: right;\">\n",
              "      <th></th>\n",
              "      <th>claps</th>\n",
              "      <th>reading_time</th>\n",
              "      <th>title_len</th>\n",
              "      <th>text_len</th>\n",
              "    </tr>\n",
              "  </thead>\n",
              "  <tbody>\n",
              "    <tr>\n",
              "      <th>0.25</th>\n",
              "      <td>157.0</td>\n",
              "      <td>6.0</td>\n",
              "      <td>55.0</td>\n",
              "      <td>6103.0</td>\n",
              "    </tr>\n",
              "    <tr>\n",
              "      <th>0.50</th>\n",
              "      <td>2000.0</td>\n",
              "      <td>8.0</td>\n",
              "      <td>63.0</td>\n",
              "      <td>8697.0</td>\n",
              "    </tr>\n",
              "    <tr>\n",
              "      <th>0.75</th>\n",
              "      <td>7000.0</td>\n",
              "      <td>13.0</td>\n",
              "      <td>72.0</td>\n",
              "      <td>14237.0</td>\n",
              "    </tr>\n",
              "  </tbody>\n",
              "</table>\n",
              "</div>"
            ],
            "text/plain": [
              "       claps  reading_time  title_len  text_len\n",
              "0.25   157.0           6.0       55.0    6103.0\n",
              "0.50  2000.0           8.0       63.0    8697.0\n",
              "0.75  7000.0          13.0       72.0   14237.0"
            ]
          },
          "metadata": {
            "tags": []
          },
          "execution_count": 31
        }
      ]
    },
    {
      "cell_type": "markdown",
      "metadata": {
        "id": "rn36vdAw7E-q"
      },
      "source": [
        "#####**.min( ), .max() : range of entries**\n"
      ]
    },
    {
      "cell_type": "code",
      "metadata": {
        "id": "0_mAL8_Y7E-s",
        "outputId": "545c8d38-bb99-4e86-886a-bb3a30eda2d8",
        "colab": {
          "base_uri": "https://localhost:8080/",
          "height": 187
        }
      },
      "source": [
        "print('minimal values:',data.min(numeric_only=True))\n",
        "print('maximum values:',data.max(numeric_only=True))\n",
        "\n",
        "#important options to consider:\n",
        "\n",
        "#skipna = default False, allows calculating the average withough NA/NaN entries\n",
        "#numeric_only = default None, allows calculating the average for numeric values only\n"
      ],
      "execution_count": 32,
      "outputs": [
        {
          "output_type": "stream",
          "text": [
            "minimal values: claps              1\n",
            "reading_time       2\n",
            "title_len         24\n",
            "text_len        1350\n",
            "dtype: int64\n",
            "maximum values: claps           53000\n",
            "reading_time       31\n",
            "title_len         104\n",
            "text_len        44527\n",
            "dtype: int64\n"
          ],
          "name": "stdout"
        }
      ]
    },
    {
      "cell_type": "markdown",
      "metadata": {
        "id": "0cfqXLCdQLt_"
      },
      "source": [
        "#### **Group by & aggregation functions: to uncover possible relationships within the data** "
      ]
    },
    {
      "cell_type": "markdown",
      "metadata": {
        "id": "Z8CIELO1QfbR"
      },
      "source": [
        "##### **Group by**\n",
        "\n",
        "\n",
        "```\n",
        "The group-by function includes the following variables: \n",
        "# by = state what do you want to group by on\n",
        "# axis = 0 by default. 0 = column, 1 = row\n",
        "# as_index = True by default (will use group labels as index)\n",
        "\n",
        "```\n",
        "\n"
      ]
    },
    {
      "cell_type": "code",
      "metadata": {
        "id": "JK2Nu5TewEbG",
        "outputId": "8bd7e672-a00c-4dee-a42e-251b6b55d33e",
        "colab": {
          "base_uri": "https://localhost:8080/",
          "height": 204
        }
      },
      "source": [
        "data.head()"
      ],
      "execution_count": 44,
      "outputs": [
        {
          "output_type": "execute_result",
          "data": {
            "text/html": [
              "<div>\n",
              "<style scoped>\n",
              "    .dataframe tbody tr th:only-of-type {\n",
              "        vertical-align: middle;\n",
              "    }\n",
              "\n",
              "    .dataframe tbody tr th {\n",
              "        vertical-align: top;\n",
              "    }\n",
              "\n",
              "    .dataframe thead th {\n",
              "        text-align: right;\n",
              "    }\n",
              "</style>\n",
              "<table border=\"1\" class=\"dataframe\">\n",
              "  <thead>\n",
              "    <tr style=\"text-align: right;\">\n",
              "      <th></th>\n",
              "      <th>author</th>\n",
              "      <th>claps</th>\n",
              "      <th>reading_time</th>\n",
              "      <th>link</th>\n",
              "      <th>title</th>\n",
              "      <th>text</th>\n",
              "      <th>title_len</th>\n",
              "      <th>text_len</th>\n",
              "    </tr>\n",
              "  </thead>\n",
              "  <tbody>\n",
              "    <tr>\n",
              "      <th>0</th>\n",
              "      <td>Justin Lee</td>\n",
              "      <td>8300</td>\n",
              "      <td>11</td>\n",
              "      <td>https://medium.com/swlh/chatbots-were-the-next...</td>\n",
              "      <td>Chatbots were the next big thing: what happene...</td>\n",
              "      <td>Oh, how the headlines blared:\\nChatbots were T...</td>\n",
              "      <td>71</td>\n",
              "      <td>12129</td>\n",
              "    </tr>\n",
              "    <tr>\n",
              "      <th>1</th>\n",
              "      <td>Conor Dewey</td>\n",
              "      <td>1400</td>\n",
              "      <td>7</td>\n",
              "      <td>https://towardsdatascience.com/python-for-data...</td>\n",
              "      <td>Python for Data Science: 8 Concepts You May Ha...</td>\n",
              "      <td>If you’ve ever found yourself looking up the s...</td>\n",
              "      <td>58</td>\n",
              "      <td>7730</td>\n",
              "    </tr>\n",
              "    <tr>\n",
              "      <th>2</th>\n",
              "      <td>William Koehrsen</td>\n",
              "      <td>2800</td>\n",
              "      <td>11</td>\n",
              "      <td>https://towardsdatascience.com/automated-featu...</td>\n",
              "      <td>Automated Feature Engineering in Python – Towa...</td>\n",
              "      <td>Machine learning is increasingly moving from h...</td>\n",
              "      <td>62</td>\n",
              "      <td>14070</td>\n",
              "    </tr>\n",
              "    <tr>\n",
              "      <th>3</th>\n",
              "      <td>Gant Laborde</td>\n",
              "      <td>1300</td>\n",
              "      <td>7</td>\n",
              "      <td>https://medium.freecodecamp.org/machine-learni...</td>\n",
              "      <td>Machine Learning: how to go from Zero to Hero ...</td>\n",
              "      <td>If your understanding of A.I. and Machine Lear...</td>\n",
              "      <td>60</td>\n",
              "      <td>8076</td>\n",
              "    </tr>\n",
              "    <tr>\n",
              "      <th>4</th>\n",
              "      <td>Emmanuel Ameisen</td>\n",
              "      <td>935</td>\n",
              "      <td>11</td>\n",
              "      <td>https://blog.insightdatascience.com/reinforcem...</td>\n",
              "      <td>Reinforcement Learning from scratch – Insight ...</td>\n",
              "      <td>Want to learn about applied Artificial Intelli...</td>\n",
              "      <td>50</td>\n",
              "      <td>13784</td>\n",
              "    </tr>\n",
              "  </tbody>\n",
              "</table>\n",
              "</div>"
            ],
            "text/plain": [
              "             author  claps  ...  title_len text_len\n",
              "0        Justin Lee   8300  ...         71    12129\n",
              "1       Conor Dewey   1400  ...         58     7730\n",
              "2  William Koehrsen   2800  ...         62    14070\n",
              "3      Gant Laborde   1300  ...         60     8076\n",
              "4  Emmanuel Ameisen    935  ...         50    13784\n",
              "\n",
              "[5 rows x 8 columns]"
            ]
          },
          "metadata": {
            "tags": []
          },
          "execution_count": 44
        }
      ]
    },
    {
      "cell_type": "code",
      "metadata": {
        "id": "lWJXb-OWP2a0",
        "outputId": "91c8581d-20a7-47a7-893f-aca0419a89cf",
        "colab": {
          "base_uri": "https://localhost:8080/",
          "height": 419
        }
      },
      "source": [
        "blog_len = data.groupby(by=['reading_time'],axis=0,as_index= False)\n",
        "blog_len.head()"
      ],
      "execution_count": 66,
      "outputs": [
        {
          "output_type": "execute_result",
          "data": {
            "text/html": [
              "<div>\n",
              "<style scoped>\n",
              "    .dataframe tbody tr th:only-of-type {\n",
              "        vertical-align: middle;\n",
              "    }\n",
              "\n",
              "    .dataframe tbody tr th {\n",
              "        vertical-align: top;\n",
              "    }\n",
              "\n",
              "    .dataframe thead th {\n",
              "        text-align: right;\n",
              "    }\n",
              "</style>\n",
              "<table border=\"1\" class=\"dataframe\">\n",
              "  <thead>\n",
              "    <tr style=\"text-align: right;\">\n",
              "      <th></th>\n",
              "      <th>author</th>\n",
              "      <th>claps</th>\n",
              "      <th>reading_time</th>\n",
              "      <th>link</th>\n",
              "      <th>title</th>\n",
              "      <th>text</th>\n",
              "      <th>title_len</th>\n",
              "      <th>text_len</th>\n",
              "    </tr>\n",
              "  </thead>\n",
              "  <tbody>\n",
              "    <tr>\n",
              "      <th>0</th>\n",
              "      <td>Justin Lee</td>\n",
              "      <td>8300</td>\n",
              "      <td>11</td>\n",
              "      <td>https://medium.com/swlh/chatbots-were-the-next...</td>\n",
              "      <td>Chatbots were the next big thing: what happene...</td>\n",
              "      <td>Oh, how the headlines blared:\\nChatbots were T...</td>\n",
              "      <td>71</td>\n",
              "      <td>12129</td>\n",
              "    </tr>\n",
              "    <tr>\n",
              "      <th>1</th>\n",
              "      <td>Conor Dewey</td>\n",
              "      <td>1400</td>\n",
              "      <td>7</td>\n",
              "      <td>https://towardsdatascience.com/python-for-data...</td>\n",
              "      <td>Python for Data Science: 8 Concepts You May Ha...</td>\n",
              "      <td>If you’ve ever found yourself looking up the s...</td>\n",
              "      <td>58</td>\n",
              "      <td>7730</td>\n",
              "    </tr>\n",
              "    <tr>\n",
              "      <th>2</th>\n",
              "      <td>William Koehrsen</td>\n",
              "      <td>2800</td>\n",
              "      <td>11</td>\n",
              "      <td>https://towardsdatascience.com/automated-featu...</td>\n",
              "      <td>Automated Feature Engineering in Python – Towa...</td>\n",
              "      <td>Machine learning is increasingly moving from h...</td>\n",
              "      <td>62</td>\n",
              "      <td>14070</td>\n",
              "    </tr>\n",
              "    <tr>\n",
              "      <th>3</th>\n",
              "      <td>Gant Laborde</td>\n",
              "      <td>1300</td>\n",
              "      <td>7</td>\n",
              "      <td>https://medium.freecodecamp.org/machine-learni...</td>\n",
              "      <td>Machine Learning: how to go from Zero to Hero ...</td>\n",
              "      <td>If your understanding of A.I. and Machine Lear...</td>\n",
              "      <td>60</td>\n",
              "      <td>8076</td>\n",
              "    </tr>\n",
              "    <tr>\n",
              "      <th>4</th>\n",
              "      <td>Emmanuel Ameisen</td>\n",
              "      <td>935</td>\n",
              "      <td>11</td>\n",
              "      <td>https://blog.insightdatascience.com/reinforcem...</td>\n",
              "      <td>Reinforcement Learning from scratch – Insight ...</td>\n",
              "      <td>Want to learn about applied Artificial Intelli...</td>\n",
              "      <td>50</td>\n",
              "      <td>13784</td>\n",
              "    </tr>\n",
              "    <tr>\n",
              "      <th>...</th>\n",
              "      <td>...</td>\n",
              "      <td>...</td>\n",
              "      <td>...</td>\n",
              "      <td>...</td>\n",
              "      <td>...</td>\n",
              "      <td>...</td>\n",
              "      <td>...</td>\n",
              "      <td>...</td>\n",
              "    </tr>\n",
              "    <tr>\n",
              "      <th>274</th>\n",
              "      <td>Leigh Alexander</td>\n",
              "      <td>2700</td>\n",
              "      <td>31</td>\n",
              "      <td>https://medium.com/@leighalexander/the-future-...</td>\n",
              "      <td>The Future We Wanted – Leigh Alexander – Medium</td>\n",
              "      <td>I wonder a lot about how Jane ended up. When w...</td>\n",
              "      <td>47</td>\n",
              "      <td>43201</td>\n",
              "    </tr>\n",
              "    <tr>\n",
              "      <th>311</th>\n",
              "      <td>Rohan Kapur</td>\n",
              "      <td>1000</td>\n",
              "      <td>30</td>\n",
              "      <td>https://ayearofai.com/rohan-lenny-1-neural-net...</td>\n",
              "      <td>Rohan &amp; Lenny #1: Neural Networks &amp; The Backpr...</td>\n",
              "      <td>In Rohan’s last post, he talked about evaluati...</td>\n",
              "      <td>76</td>\n",
              "      <td>38831</td>\n",
              "    </tr>\n",
              "    <tr>\n",
              "      <th>314</th>\n",
              "      <td>Ross Goodwin</td>\n",
              "      <td>686</td>\n",
              "      <td>23</td>\n",
              "      <td>https://medium.com/artists-and-machine-intelli...</td>\n",
              "      <td>Adventures in Narrated Reality – Artists and M...</td>\n",
              "      <td>By Ross Goodwin\\nIn May 2015, Stanford PhD stu...</td>\n",
              "      <td>74</td>\n",
              "      <td>27725</td>\n",
              "    </tr>\n",
              "    <tr>\n",
              "      <th>327</th>\n",
              "      <td>Gary Marcus</td>\n",
              "      <td>1300</td>\n",
              "      <td>27</td>\n",
              "      <td>https://medium.com/@GaryMarcus/in-defense-of-s...</td>\n",
              "      <td>In defense of skepticism about deep learning –...</td>\n",
              "      <td>In a recent appraisal of deep learning (Marcus...</td>\n",
              "      <td>67</td>\n",
              "      <td>36987</td>\n",
              "    </tr>\n",
              "    <tr>\n",
              "      <th>329</th>\n",
              "      <td>Favio Vázquez</td>\n",
              "      <td>3300</td>\n",
              "      <td>14</td>\n",
              "      <td>https://towardsdatascience.com/a-weird-introdu...</td>\n",
              "      <td>A “weird” introduction to Deep Learning – Towa...</td>\n",
              "      <td>There are amazing introductions, courses and b...</td>\n",
              "      <td>62</td>\n",
              "      <td>11727</td>\n",
              "    </tr>\n",
              "  </tbody>\n",
              "</table>\n",
              "<p>99 rows × 8 columns</p>\n",
              "</div>"
            ],
            "text/plain": [
              "               author  claps  ...  title_len text_len\n",
              "0          Justin Lee   8300  ...         71    12129\n",
              "1         Conor Dewey   1400  ...         58     7730\n",
              "2    William Koehrsen   2800  ...         62    14070\n",
              "3        Gant Laborde   1300  ...         60     8076\n",
              "4    Emmanuel Ameisen    935  ...         50    13784\n",
              "..                ...    ...  ...        ...      ...\n",
              "274   Leigh Alexander   2700  ...         47    43201\n",
              "311       Rohan Kapur   1000  ...         76    38831\n",
              "314      Ross Goodwin    686  ...         74    27725\n",
              "327       Gary Marcus   1300  ...         67    36987\n",
              "329    Favio Vázquez   3300  ...         62    11727\n",
              "\n",
              "[99 rows x 8 columns]"
            ]
          },
          "metadata": {
            "tags": []
          },
          "execution_count": 66
        }
      ]
    },
    {
      "cell_type": "code",
      "metadata": {
        "id": "AvukHqqCx6Ie",
        "outputId": "db7a1804-3fca-4d73-e017-28109d41a2b8",
        "colab": {
          "base_uri": "https://localhost:8080/",
          "height": 34
        }
      },
      "source": [
        "len(data.author.unique())"
      ],
      "execution_count": 65,
      "outputs": [
        {
          "output_type": "execute_result",
          "data": {
            "text/plain": [
              "182"
            ]
          },
          "metadata": {
            "tags": []
          },
          "execution_count": 65
        }
      ]
    },
    {
      "cell_type": "code",
      "metadata": {
        "id": "7N_Y3QCGwLUS",
        "outputId": "6c2a697d-e516-40f4-8408-f87505acd46f",
        "colab": {
          "base_uri": "https://localhost:8080/",
          "height": 450
        }
      },
      "source": [
        "#找到每个作者写过的第一篇文章的名字\n",
        "b = data.groupby(by=['author']).apply(lambda b : b.iloc[0])\n",
        "b"
      ],
      "execution_count": 60,
      "outputs": [
        {
          "output_type": "execute_result",
          "data": {
            "text/html": [
              "<div>\n",
              "<style scoped>\n",
              "    .dataframe tbody tr th:only-of-type {\n",
              "        vertical-align: middle;\n",
              "    }\n",
              "\n",
              "    .dataframe tbody tr th {\n",
              "        vertical-align: top;\n",
              "    }\n",
              "\n",
              "    .dataframe thead th {\n",
              "        text-align: right;\n",
              "    }\n",
              "</style>\n",
              "<table border=\"1\" class=\"dataframe\">\n",
              "  <thead>\n",
              "    <tr style=\"text-align: right;\">\n",
              "      <th></th>\n",
              "      <th>author</th>\n",
              "      <th>claps</th>\n",
              "      <th>reading_time</th>\n",
              "      <th>link</th>\n",
              "      <th>title</th>\n",
              "      <th>text</th>\n",
              "      <th>title_len</th>\n",
              "      <th>text_len</th>\n",
              "    </tr>\n",
              "    <tr>\n",
              "      <th>author</th>\n",
              "      <th></th>\n",
              "      <th></th>\n",
              "      <th></th>\n",
              "      <th></th>\n",
              "      <th></th>\n",
              "      <th></th>\n",
              "      <th></th>\n",
              "      <th></th>\n",
              "    </tr>\n",
              "  </thead>\n",
              "  <tbody>\n",
              "    <tr>\n",
              "      <th>Abhishek Parbhakar</th>\n",
              "      <td>Abhishek Parbhakar</td>\n",
              "      <td>937</td>\n",
              "      <td>6</td>\n",
              "      <td>https://towardsdatascience.com/must-know-infor...</td>\n",
              "      <td>Must know Information Theory concepts in Deep ...</td>\n",
              "      <td>Information theory is an important field that ...</td>\n",
              "      <td>59</td>\n",
              "      <td>5743</td>\n",
              "    </tr>\n",
              "    <tr>\n",
              "      <th>Adam Geitgey</th>\n",
              "      <td>Adam Geitgey</td>\n",
              "      <td>35000</td>\n",
              "      <td>15</td>\n",
              "      <td>https://medium.com/@ageitgey/machine-learning-...</td>\n",
              "      <td>Machine Learning is Fun! – Adam Geitgey – Medium</td>\n",
              "      <td>Update: This article is part of a series. Chec...</td>\n",
              "      <td>48</td>\n",
              "      <td>16643</td>\n",
              "    </tr>\n",
              "    <tr>\n",
              "      <th>Ahmed El Deeb</th>\n",
              "      <td>Ahmed El Deeb</td>\n",
              "      <td>593</td>\n",
              "      <td>7</td>\n",
              "      <td>https://medium.com/rants-on-machine-learning/w...</td>\n",
              "      <td>What to do with “small” data? – Rants on Machi...</td>\n",
              "      <td>By Ahmed El Deeb\\nMany technology companies no...</td>\n",
              "      <td>66</td>\n",
              "      <td>7751</td>\n",
              "    </tr>\n",
              "    <tr>\n",
              "      <th>AirbnbEng</th>\n",
              "      <td>AirbnbEng</td>\n",
              "      <td>369</td>\n",
              "      <td>11</td>\n",
              "      <td>https://medium.com/airbnb-engineering/architec...</td>\n",
              "      <td>Architecting a Machine Learning System for Ris...</td>\n",
              "      <td>By Naseem Hakim &amp; Aaron Keys\\nAt Airbnb, we wa...</td>\n",
              "      <td>92</td>\n",
              "      <td>13198</td>\n",
              "    </tr>\n",
              "    <tr>\n",
              "      <th>Akash Shende</th>\n",
              "      <td>Akash Shende</td>\n",
              "      <td>1</td>\n",
              "      <td>3</td>\n",
              "      <td>https://medium.com/@akash0x53/color-based-obje...</td>\n",
              "      <td>Color Based Object Segmentation – Akash Shende...</td>\n",
              "      <td>In this picture, Pranav Mistry is using color ...</td>\n",
              "      <td>55</td>\n",
              "      <td>2217</td>\n",
              "    </tr>\n",
              "    <tr>\n",
              "      <th>...</th>\n",
              "      <td>...</td>\n",
              "      <td>...</td>\n",
              "      <td>...</td>\n",
              "      <td>...</td>\n",
              "      <td>...</td>\n",
              "      <td>...</td>\n",
              "      <td>...</td>\n",
              "      <td>...</td>\n",
              "    </tr>\n",
              "    <tr>\n",
              "      <th>nafrondel</th>\n",
              "      <td>nafrondel</td>\n",
              "      <td>1700</td>\n",
              "      <td>5</td>\n",
              "      <td>https://medium.com/@nafrondel/you-requested-so...</td>\n",
              "      <td>You requested someone with a degree in this? *...</td>\n",
              "      <td>You requested someone with a degree in this? *...</td>\n",
              "      <td>60</td>\n",
              "      <td>6100</td>\n",
              "    </tr>\n",
              "    <tr>\n",
              "      <th>paulson</th>\n",
              "      <td>paulson</td>\n",
              "      <td>1</td>\n",
              "      <td>17</td>\n",
              "      <td>https://electricliterature.com/what-could-happ...</td>\n",
              "      <td>What Could Happen If We Did Things Right: An I...</td>\n",
              "      <td>Is Kim Stanley Robinson our greatest political...</td>\n",
              "      <td>98</td>\n",
              "      <td>22863</td>\n",
              "    </tr>\n",
              "    <tr>\n",
              "      <th>samim</th>\n",
              "      <td>samim</td>\n",
              "      <td>301</td>\n",
              "      <td>4</td>\n",
              "      <td>https://medium.com/@samim/generating-stories-a...</td>\n",
              "      <td>Generating Stories about Images – samim – Medium</td>\n",
              "      <td>Stories are a fundamental human tool that we u...</td>\n",
              "      <td>48</td>\n",
              "      <td>1766</td>\n",
              "    </tr>\n",
              "    <tr>\n",
              "      <th>savedroid ICO</th>\n",
              "      <td>savedroid ICO</td>\n",
              "      <td>340</td>\n",
              "      <td>3</td>\n",
              "      <td>https://medium.com/@ico_8796/sneakpeek-the-sav...</td>\n",
              "      <td>#SNEAKPEEK The savedroid crypto saving app — P...</td>\n",
              "      <td>The international beta of our brand new crypto...</td>\n",
              "      <td>63</td>\n",
              "      <td>2086</td>\n",
              "    </tr>\n",
              "    <tr>\n",
              "      <th>x.ai</th>\n",
              "      <td>x.ai</td>\n",
              "      <td>1</td>\n",
              "      <td>2</td>\n",
              "      <td>https://medium.com/@xdotai/i-scheduled-1-019-m...</td>\n",
              "      <td>I scheduled 1,019 meetings in 2012 — and that ...</td>\n",
              "      <td>The number of meetings that I scheduled in 201...</td>\n",
              "      <td>78</td>\n",
              "      <td>1350</td>\n",
              "    </tr>\n",
              "  </tbody>\n",
              "</table>\n",
              "<p>182 rows × 8 columns</p>\n",
              "</div>"
            ],
            "text/plain": [
              "                                author  claps  ...  title_len text_len\n",
              "author                                         ...                    \n",
              "Abhishek Parbhakar  Abhishek Parbhakar    937  ...         59     5743\n",
              "Adam Geitgey              Adam Geitgey  35000  ...         48    16643\n",
              "Ahmed El Deeb            Ahmed El Deeb    593  ...         66     7751\n",
              "AirbnbEng                    AirbnbEng    369  ...         92    13198\n",
              "Akash Shende              Akash Shende      1  ...         55     2217\n",
              "...                                ...    ...  ...        ...      ...\n",
              "nafrondel                    nafrondel   1700  ...         60     6100\n",
              "paulson                        paulson      1  ...         98    22863\n",
              "samim                            samim    301  ...         48     1766\n",
              "savedroid ICO            savedroid ICO    340  ...         63     2086\n",
              "x.ai                              x.ai      1  ...         78     1350\n",
              "\n",
              "[182 rows x 8 columns]"
            ]
          },
          "metadata": {
            "tags": []
          },
          "execution_count": 60
        }
      ]
    },
    {
      "cell_type": "markdown",
      "metadata": {
        "id": "TRmd1Art_X2Q"
      },
      "source": [
        "#####**.agg function**"
      ]
    },
    {
      "cell_type": "code",
      "metadata": {
        "id": "NDpBgAVF_bAG",
        "outputId": "81a5491e-3366-4084-9df6-10b73d248822",
        "colab": {
          "base_uri": "https://localhost:8080/",
          "height": 886
        }
      },
      "source": [
        "blog_len.agg(['mean','median']) #one of the advantages of using .agg is that you can use it for multiple types of aggregations including with dictionaries "
      ],
      "execution_count": 34,
      "outputs": [
        {
          "output_type": "execute_result",
          "data": {
            "text/html": [
              "<div>\n",
              "<style scoped>\n",
              "    .dataframe tbody tr th:only-of-type {\n",
              "        vertical-align: middle;\n",
              "    }\n",
              "\n",
              "    .dataframe tbody tr th {\n",
              "        vertical-align: top;\n",
              "    }\n",
              "\n",
              "    .dataframe thead tr th {\n",
              "        text-align: left;\n",
              "    }\n",
              "\n",
              "    .dataframe thead tr:last-of-type th {\n",
              "        text-align: right;\n",
              "    }\n",
              "</style>\n",
              "<table border=\"1\" class=\"dataframe\">\n",
              "  <thead>\n",
              "    <tr>\n",
              "      <th></th>\n",
              "      <th colspan=\"2\" halign=\"left\">claps</th>\n",
              "      <th colspan=\"2\" halign=\"left\">title_len</th>\n",
              "      <th colspan=\"2\" halign=\"left\">text_len</th>\n",
              "    </tr>\n",
              "    <tr>\n",
              "      <th></th>\n",
              "      <th>mean</th>\n",
              "      <th>median</th>\n",
              "      <th>mean</th>\n",
              "      <th>median</th>\n",
              "      <th>mean</th>\n",
              "      <th>median</th>\n",
              "    </tr>\n",
              "    <tr>\n",
              "      <th>reading_time</th>\n",
              "      <th></th>\n",
              "      <th></th>\n",
              "      <th></th>\n",
              "      <th></th>\n",
              "      <th></th>\n",
              "      <th></th>\n",
              "    </tr>\n",
              "  </thead>\n",
              "  <tbody>\n",
              "    <tr>\n",
              "      <th>2</th>\n",
              "      <td>8.500000</td>\n",
              "      <td>8.5</td>\n",
              "      <td>89.000000</td>\n",
              "      <td>89.0</td>\n",
              "      <td>1386.500000</td>\n",
              "      <td>1386.5</td>\n",
              "    </tr>\n",
              "    <tr>\n",
              "      <th>3</th>\n",
              "      <td>1147.421053</td>\n",
              "      <td>128.0</td>\n",
              "      <td>60.736842</td>\n",
              "      <td>58.0</td>\n",
              "      <td>3179.526316</td>\n",
              "      <td>3105.0</td>\n",
              "    </tr>\n",
              "    <tr>\n",
              "      <th>4</th>\n",
              "      <td>623.083333</td>\n",
              "      <td>19.5</td>\n",
              "      <td>59.708333</td>\n",
              "      <td>59.0</td>\n",
              "      <td>4063.791667</td>\n",
              "      <td>4216.5</td>\n",
              "    </tr>\n",
              "    <tr>\n",
              "      <th>5</th>\n",
              "      <td>1730.866667</td>\n",
              "      <td>166.0</td>\n",
              "      <td>64.200000</td>\n",
              "      <td>64.5</td>\n",
              "      <td>5508.733333</td>\n",
              "      <td>5520.0</td>\n",
              "    </tr>\n",
              "    <tr>\n",
              "      <th>6</th>\n",
              "      <td>2775.785714</td>\n",
              "      <td>937.0</td>\n",
              "      <td>67.714286</td>\n",
              "      <td>59.0</td>\n",
              "      <td>6582.404762</td>\n",
              "      <td>7135.0</td>\n",
              "    </tr>\n",
              "    <tr>\n",
              "      <th>7</th>\n",
              "      <td>3846.468750</td>\n",
              "      <td>1300.0</td>\n",
              "      <td>64.437500</td>\n",
              "      <td>61.0</td>\n",
              "      <td>7671.281250</td>\n",
              "      <td>7892.5</td>\n",
              "    </tr>\n",
              "    <tr>\n",
              "      <th>8</th>\n",
              "      <td>7310.692308</td>\n",
              "      <td>3500.0</td>\n",
              "      <td>68.038462</td>\n",
              "      <td>65.5</td>\n",
              "      <td>9129.961538</td>\n",
              "      <td>9424.5</td>\n",
              "    </tr>\n",
              "    <tr>\n",
              "      <th>9</th>\n",
              "      <td>8153.200000</td>\n",
              "      <td>947.0</td>\n",
              "      <td>56.066667</td>\n",
              "      <td>54.0</td>\n",
              "      <td>10433.800000</td>\n",
              "      <td>10457.0</td>\n",
              "    </tr>\n",
              "    <tr>\n",
              "      <th>10</th>\n",
              "      <td>6211.875000</td>\n",
              "      <td>3900.0</td>\n",
              "      <td>61.916667</td>\n",
              "      <td>63.0</td>\n",
              "      <td>9324.833333</td>\n",
              "      <td>8882.5</td>\n",
              "    </tr>\n",
              "    <tr>\n",
              "      <th>11</th>\n",
              "      <td>7667.481481</td>\n",
              "      <td>2800.0</td>\n",
              "      <td>67.000000</td>\n",
              "      <td>67.0</td>\n",
              "      <td>12530.814815</td>\n",
              "      <td>12879.0</td>\n",
              "    </tr>\n",
              "    <tr>\n",
              "      <th>12</th>\n",
              "      <td>2690.545455</td>\n",
              "      <td>4300.0</td>\n",
              "      <td>61.727273</td>\n",
              "      <td>66.0</td>\n",
              "      <td>13112.000000</td>\n",
              "      <td>12666.0</td>\n",
              "    </tr>\n",
              "    <tr>\n",
              "      <th>13</th>\n",
              "      <td>16106.666667</td>\n",
              "      <td>15200.0</td>\n",
              "      <td>70.200000</td>\n",
              "      <td>72.0</td>\n",
              "      <td>15157.133333</td>\n",
              "      <td>15325.0</td>\n",
              "    </tr>\n",
              "    <tr>\n",
              "      <th>14</th>\n",
              "      <td>2658.500000</td>\n",
              "      <td>1658.5</td>\n",
              "      <td>64.250000</td>\n",
              "      <td>58.5</td>\n",
              "      <td>17446.750000</td>\n",
              "      <td>19297.5</td>\n",
              "    </tr>\n",
              "    <tr>\n",
              "      <th>15</th>\n",
              "      <td>9292.545455</td>\n",
              "      <td>8700.0</td>\n",
              "      <td>61.818182</td>\n",
              "      <td>56.0</td>\n",
              "      <td>18176.000000</td>\n",
              "      <td>17761.5</td>\n",
              "    </tr>\n",
              "    <tr>\n",
              "      <th>16</th>\n",
              "      <td>19142.857143</td>\n",
              "      <td>10200.0</td>\n",
              "      <td>71.714286</td>\n",
              "      <td>63.0</td>\n",
              "      <td>20451.571429</td>\n",
              "      <td>18964.0</td>\n",
              "    </tr>\n",
              "    <tr>\n",
              "      <th>17</th>\n",
              "      <td>3923.153846</td>\n",
              "      <td>2600.0</td>\n",
              "      <td>64.769231</td>\n",
              "      <td>65.0</td>\n",
              "      <td>19140.307692</td>\n",
              "      <td>19613.0</td>\n",
              "    </tr>\n",
              "    <tr>\n",
              "      <th>18</th>\n",
              "      <td>35000.000000</td>\n",
              "      <td>35000.0</td>\n",
              "      <td>72.000000</td>\n",
              "      <td>72.0</td>\n",
              "      <td>25511.000000</td>\n",
              "      <td>25511.0</td>\n",
              "    </tr>\n",
              "    <tr>\n",
              "      <th>19</th>\n",
              "      <td>6845.666667</td>\n",
              "      <td>5400.0</td>\n",
              "      <td>53.333333</td>\n",
              "      <td>51.0</td>\n",
              "      <td>26126.333333</td>\n",
              "      <td>26302.0</td>\n",
              "    </tr>\n",
              "    <tr>\n",
              "      <th>20</th>\n",
              "      <td>7600.000000</td>\n",
              "      <td>10600.0</td>\n",
              "      <td>82.333333</td>\n",
              "      <td>76.0</td>\n",
              "      <td>27517.000000</td>\n",
              "      <td>26411.0</td>\n",
              "    </tr>\n",
              "    <tr>\n",
              "      <th>23</th>\n",
              "      <td>4637.200000</td>\n",
              "      <td>7000.0</td>\n",
              "      <td>81.200000</td>\n",
              "      <td>88.0</td>\n",
              "      <td>22825.800000</td>\n",
              "      <td>20297.0</td>\n",
              "    </tr>\n",
              "    <tr>\n",
              "      <th>24</th>\n",
              "      <td>7000.000000</td>\n",
              "      <td>7000.0</td>\n",
              "      <td>67.000000</td>\n",
              "      <td>67.0</td>\n",
              "      <td>31917.000000</td>\n",
              "      <td>31917.0</td>\n",
              "    </tr>\n",
              "    <tr>\n",
              "      <th>25</th>\n",
              "      <td>9100.000000</td>\n",
              "      <td>9100.0</td>\n",
              "      <td>72.000000</td>\n",
              "      <td>72.0</td>\n",
              "      <td>18313.000000</td>\n",
              "      <td>18313.0</td>\n",
              "    </tr>\n",
              "    <tr>\n",
              "      <th>27</th>\n",
              "      <td>1300.000000</td>\n",
              "      <td>1300.0</td>\n",
              "      <td>67.000000</td>\n",
              "      <td>67.0</td>\n",
              "      <td>36987.000000</td>\n",
              "      <td>36987.0</td>\n",
              "    </tr>\n",
              "    <tr>\n",
              "      <th>30</th>\n",
              "      <td>1000.000000</td>\n",
              "      <td>1000.0</td>\n",
              "      <td>76.000000</td>\n",
              "      <td>76.0</td>\n",
              "      <td>38831.000000</td>\n",
              "      <td>38831.0</td>\n",
              "    </tr>\n",
              "    <tr>\n",
              "      <th>31</th>\n",
              "      <td>928.666667</td>\n",
              "      <td>43.0</td>\n",
              "      <td>47.000000</td>\n",
              "      <td>47.0</td>\n",
              "      <td>44085.000000</td>\n",
              "      <td>44527.0</td>\n",
              "    </tr>\n",
              "  </tbody>\n",
              "</table>\n",
              "</div>"
            ],
            "text/plain": [
              "                     claps           title_len             text_len         \n",
              "                      mean   median       mean median          mean   median\n",
              "reading_time                                                                \n",
              "2                 8.500000      8.5  89.000000   89.0   1386.500000   1386.5\n",
              "3              1147.421053    128.0  60.736842   58.0   3179.526316   3105.0\n",
              "4               623.083333     19.5  59.708333   59.0   4063.791667   4216.5\n",
              "5              1730.866667    166.0  64.200000   64.5   5508.733333   5520.0\n",
              "6              2775.785714    937.0  67.714286   59.0   6582.404762   7135.0\n",
              "7              3846.468750   1300.0  64.437500   61.0   7671.281250   7892.5\n",
              "8              7310.692308   3500.0  68.038462   65.5   9129.961538   9424.5\n",
              "9              8153.200000    947.0  56.066667   54.0  10433.800000  10457.0\n",
              "10             6211.875000   3900.0  61.916667   63.0   9324.833333   8882.5\n",
              "11             7667.481481   2800.0  67.000000   67.0  12530.814815  12879.0\n",
              "12             2690.545455   4300.0  61.727273   66.0  13112.000000  12666.0\n",
              "13            16106.666667  15200.0  70.200000   72.0  15157.133333  15325.0\n",
              "14             2658.500000   1658.5  64.250000   58.5  17446.750000  19297.5\n",
              "15             9292.545455   8700.0  61.818182   56.0  18176.000000  17761.5\n",
              "16            19142.857143  10200.0  71.714286   63.0  20451.571429  18964.0\n",
              "17             3923.153846   2600.0  64.769231   65.0  19140.307692  19613.0\n",
              "18            35000.000000  35000.0  72.000000   72.0  25511.000000  25511.0\n",
              "19             6845.666667   5400.0  53.333333   51.0  26126.333333  26302.0\n",
              "20             7600.000000  10600.0  82.333333   76.0  27517.000000  26411.0\n",
              "23             4637.200000   7000.0  81.200000   88.0  22825.800000  20297.0\n",
              "24             7000.000000   7000.0  67.000000   67.0  31917.000000  31917.0\n",
              "25             9100.000000   9100.0  72.000000   72.0  18313.000000  18313.0\n",
              "27             1300.000000   1300.0  67.000000   67.0  36987.000000  36987.0\n",
              "30             1000.000000   1000.0  76.000000   76.0  38831.000000  38831.0\n",
              "31              928.666667     43.0  47.000000   47.0  44085.000000  44527.0"
            ]
          },
          "metadata": {
            "tags": []
          },
          "execution_count": 34
        }
      ]
    },
    {
      "cell_type": "markdown",
      "metadata": {
        "id": "EDb64JDbBOwT"
      },
      "source": [
        "#####**.agg: custom functions (truncated mean)**"
      ]
    },
    {
      "cell_type": "code",
      "metadata": {
        "id": "RpeOmjHG_3oV",
        "outputId": "5b033447-9a02-4e0a-c5e0-70a12d1b75f6",
        "colab": {
          "base_uri": "https://localhost:8080/",
          "height": 855
        }
      },
      "source": [
        "# custom function taken from datacamp #\n",
        "def truncated_mean (data): \n",
        "\n",
        "  \"\"\" compute mean excluding outliers\"\"\"\n",
        "\n",
        "  top_val = data.quantile(.9)\n",
        "  bottom_val = data.quantile(.1)\n",
        "  trunc_data = data[(data<=top_val)&(data>=bottom_val)]\n",
        "  mean =trunc_data.mean()\n",
        "  return (mean)\n",
        "\n",
        "# find trunc data by reading time and number of claps\n",
        "blog_len.agg({'claps':[truncated_mean]})\n"
      ],
      "execution_count": 35,
      "outputs": [
        {
          "output_type": "execute_result",
          "data": {
            "text/html": [
              "<div>\n",
              "<style scoped>\n",
              "    .dataframe tbody tr th:only-of-type {\n",
              "        vertical-align: middle;\n",
              "    }\n",
              "\n",
              "    .dataframe tbody tr th {\n",
              "        vertical-align: top;\n",
              "    }\n",
              "\n",
              "    .dataframe thead tr th {\n",
              "        text-align: left;\n",
              "    }\n",
              "</style>\n",
              "<table border=\"1\" class=\"dataframe\">\n",
              "  <thead>\n",
              "    <tr>\n",
              "      <th></th>\n",
              "      <th>reading_time</th>\n",
              "      <th>claps</th>\n",
              "    </tr>\n",
              "    <tr>\n",
              "      <th></th>\n",
              "      <th></th>\n",
              "      <th>truncated_mean</th>\n",
              "    </tr>\n",
              "  </thead>\n",
              "  <tbody>\n",
              "    <tr>\n",
              "      <th>0</th>\n",
              "      <td>2</td>\n",
              "      <td>NaN</td>\n",
              "    </tr>\n",
              "    <tr>\n",
              "      <th>1</th>\n",
              "      <td>3</td>\n",
              "      <td>624.875000</td>\n",
              "    </tr>\n",
              "    <tr>\n",
              "      <th>2</th>\n",
              "      <td>4</td>\n",
              "      <td>88.285714</td>\n",
              "    </tr>\n",
              "    <tr>\n",
              "      <th>3</th>\n",
              "      <td>5</td>\n",
              "      <td>868.920000</td>\n",
              "    </tr>\n",
              "    <tr>\n",
              "      <th>4</th>\n",
              "      <td>6</td>\n",
              "      <td>2957.305556</td>\n",
              "    </tr>\n",
              "    <tr>\n",
              "      <th>5</th>\n",
              "      <td>7</td>\n",
              "      <td>2760.708333</td>\n",
              "    </tr>\n",
              "    <tr>\n",
              "      <th>6</th>\n",
              "      <td>8</td>\n",
              "      <td>7044.636364</td>\n",
              "    </tr>\n",
              "    <tr>\n",
              "      <th>7</th>\n",
              "      <td>9</td>\n",
              "      <td>1480.545455</td>\n",
              "    </tr>\n",
              "    <tr>\n",
              "      <th>8</th>\n",
              "      <td>10</td>\n",
              "      <td>2788.684211</td>\n",
              "    </tr>\n",
              "    <tr>\n",
              "      <th>9</th>\n",
              "      <td>11</td>\n",
              "      <td>4771.047619</td>\n",
              "    </tr>\n",
              "    <tr>\n",
              "      <th>10</th>\n",
              "      <td>12</td>\n",
              "      <td>2429.600000</td>\n",
              "    </tr>\n",
              "    <tr>\n",
              "      <th>11</th>\n",
              "      <td>13</td>\n",
              "      <td>12763.636364</td>\n",
              "    </tr>\n",
              "    <tr>\n",
              "      <th>12</th>\n",
              "      <td>14</td>\n",
              "      <td>1111.333333</td>\n",
              "    </tr>\n",
              "    <tr>\n",
              "      <th>13</th>\n",
              "      <td>15</td>\n",
              "      <td>7905.882353</td>\n",
              "    </tr>\n",
              "    <tr>\n",
              "      <th>14</th>\n",
              "      <td>16</td>\n",
              "      <td>19142.857143</td>\n",
              "    </tr>\n",
              "    <tr>\n",
              "      <th>15</th>\n",
              "      <td>17</td>\n",
              "      <td>3109.090909</td>\n",
              "    </tr>\n",
              "    <tr>\n",
              "      <th>16</th>\n",
              "      <td>18</td>\n",
              "      <td>35000.000000</td>\n",
              "    </tr>\n",
              "    <tr>\n",
              "      <th>17</th>\n",
              "      <td>19</td>\n",
              "      <td>5400.000000</td>\n",
              "    </tr>\n",
              "    <tr>\n",
              "      <th>18</th>\n",
              "      <td>20</td>\n",
              "      <td>7600.000000</td>\n",
              "    </tr>\n",
              "    <tr>\n",
              "      <th>19</th>\n",
              "      <td>23</td>\n",
              "      <td>5625.000000</td>\n",
              "    </tr>\n",
              "    <tr>\n",
              "      <th>20</th>\n",
              "      <td>24</td>\n",
              "      <td>7000.000000</td>\n",
              "    </tr>\n",
              "    <tr>\n",
              "      <th>21</th>\n",
              "      <td>25</td>\n",
              "      <td>9100.000000</td>\n",
              "    </tr>\n",
              "    <tr>\n",
              "      <th>22</th>\n",
              "      <td>27</td>\n",
              "      <td>1300.000000</td>\n",
              "    </tr>\n",
              "    <tr>\n",
              "      <th>23</th>\n",
              "      <td>30</td>\n",
              "      <td>1000.000000</td>\n",
              "    </tr>\n",
              "    <tr>\n",
              "      <th>24</th>\n",
              "      <td>31</td>\n",
              "      <td>43.000000</td>\n",
              "    </tr>\n",
              "  </tbody>\n",
              "</table>\n",
              "</div>"
            ],
            "text/plain": [
              "   reading_time          claps\n",
              "                truncated_mean\n",
              "0             2            NaN\n",
              "1             3     624.875000\n",
              "2             4      88.285714\n",
              "3             5     868.920000\n",
              "4             6    2957.305556\n",
              "5             7    2760.708333\n",
              "6             8    7044.636364\n",
              "7             9    1480.545455\n",
              "8            10    2788.684211\n",
              "9            11    4771.047619\n",
              "10           12    2429.600000\n",
              "11           13   12763.636364\n",
              "12           14    1111.333333\n",
              "13           15    7905.882353\n",
              "14           16   19142.857143\n",
              "15           17    3109.090909\n",
              "16           18   35000.000000\n",
              "17           19    5400.000000\n",
              "18           20    7600.000000\n",
              "19           23    5625.000000\n",
              "20           24    7000.000000\n",
              "21           25    9100.000000\n",
              "22           27    1300.000000\n",
              "23           30    1000.000000\n",
              "24           31      43.000000"
            ]
          },
          "metadata": {
            "tags": []
          },
          "execution_count": 35
        }
      ]
    },
    {
      "cell_type": "code",
      "metadata": {
        "id": "P8no1E5jqxsL"
      },
      "source": [
        ""
      ],
      "execution_count": null,
      "outputs": []
    }
  ]
}